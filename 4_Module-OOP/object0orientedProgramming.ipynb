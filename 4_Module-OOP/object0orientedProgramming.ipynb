{
 "cells": [
  {
   "cell_type": "markdown",
   "metadata": {},
   "source": [
    "# Classes and Objects"
   ]
  },
  {
   "cell_type": "markdown",
   "metadata": {},
   "source": [
    "<b>Get started with object-oriented programming in Python.</b>\n",
    "\n",
    "Object-Oriented Programming (OOP) is a programming paradigm that allows for the organization of code with data states and functionalities. Code with OOP is modular, abstract, and easy to maintain. In this article, we’ll cover classes and objects, which are the backbones of OOP."
   ]
  },
  {
   "cell_type": "markdown",
   "metadata": {},
   "source": [
    "### Classes\n",
    "A class is a data type that encapsulates information and functions as a blueprint for objects. Let’s take a look at the syntax for creating a new class:"
   ]
  },
  {
   "cell_type": "code",
   "execution_count": 1,
   "metadata": {},
   "outputs": [],
   "source": [
    "class Dog:\n",
    "   # this is a blank class\n",
    "   pass\n"
   ]
  },
  {
   "cell_type": "markdown",
   "metadata": {},
   "source": [
    "To create a class, use the class keyword followed by the name of the class and :. A new line with indentation marks the beginning of the class body."
   ]
  },
  {
   "cell_type": "markdown",
   "metadata": {},
   "source": [
    "### Objects\n",
    "An object is an instance of a class, which means the object contains everything from the class that it’s instantiated from. We can take the above class Dog and create an object named pepper as such:"
   ]
  },
  {
   "cell_type": "code",
   "execution_count": 2,
   "metadata": {},
   "outputs": [
    {
     "name": "stdout",
     "output_type": "stream",
     "text": [
      "<__main__.Dog object at 0x000002A5493D3E00>\n"
     ]
    }
   ],
   "source": [
    "pepper = Dog()\n",
    "print(pepper)\n"
   ]
  },
  {
   "cell_type": "markdown",
   "metadata": {},
   "source": [
    "### Try It Out!\n",
    "Coding question\n",
    "Questions\n",
    "Take a look at the following code and play around with it to get a better understanding of classes and objects."
   ]
  },
  {
   "cell_type": "code",
   "execution_count": 3,
   "metadata": {},
   "outputs": [
    {
     "name": "stdout",
     "output_type": "stream",
     "text": [
      "<__main__.Dog object at 0x000002A5493D3CB0>\n"
     ]
    }
   ],
   "source": [
    "class Dog:\n",
    "   # this is a blank class\n",
    "   pass\n",
    "pepper = Dog()\n",
    "print(pepper)\n"
   ]
  },
  {
   "cell_type": "markdown",
   "metadata": {},
   "source": [
    "# Constructors and Destructors"
   ]
  },
  {
   "cell_type": "markdown",
   "metadata": {},
   "source": [
    "<b>Learn about constructors and destructors in Python.</b>\n",
    "\n",
    "In object-oriented programming (OOP), constructors are functions that are called when an object of a class is created and destructors are called to delete an object. In this article, we’ll cover the following:\n",
    "\n",
    "- Constructors\n",
    "- Destructors"
   ]
  },
  {
   "cell_type": "markdown",
   "metadata": {},
   "source": [
    "### Constructors\n",
    "Constructors are special functions that are executed when an object is instantiated. In Python, the `__init__()` function is used as the constructor and is called when creating an object."
   ]
  },
  {
   "cell_type": "markdown",
   "metadata": {},
   "source": [
    "### init()\n",
    "It is common practice for classes to contain Python’s built-in `__init__()` method as the constructor. In the example below, the `__init__()` method would be called every time the ClassSchedule class is instantiated, and used to initialize a newly created object:"
   ]
  },
  {
   "cell_type": "code",
   "execution_count": 4,
   "metadata": {},
   "outputs": [],
   "source": [
    "class ClassSchedule:\n",
    "   def __init__(self, course):\n",
    "       self.course = course\n"
   ]
  },
  {
   "cell_type": "markdown",
   "metadata": {},
   "source": [
    "### Instance Variables\n",
    "The self parameter in the `__init__()` method refers to the current instance and the instance variable course allows for input to assign a value. We can create a class instance by calling the class and inputting the value for course. Let’s create an instance with the instance variable ’Chemistry’ and assign it to an object named first:"
   ]
  },
  {
   "cell_type": "code",
   "execution_count": 5,
   "metadata": {},
   "outputs": [
    {
     "name": "stdout",
     "output_type": "stream",
     "text": [
      "Chemistry\n"
     ]
    }
   ],
   "source": [
    "class ClassSchedule:\n",
    "    def __init__(self, course):\n",
    "        self.course = course\n",
    "\n",
    "first = ClassSchedule('Chemistry')\n",
    "print(first.course)\n"
   ]
  },
  {
   "cell_type": "markdown",
   "metadata": {},
   "source": [
    "### Destructors\n",
    "Destructors are special functions that are called when an object gets deleted. In Python, the `__del__()` method is commonly used as the destructor and is called when an object is deleted.\n",
    "\n",
    "#### del()\n",
    "Python’s built-in `__del__()` method represents the destructor in a class. In the example below, the `__del__()` method would be called every time an object initiated from the ClassSchedule class is deleted."
   ]
  },
  {
   "cell_type": "code",
   "execution_count": 6,
   "metadata": {},
   "outputs": [],
   "source": [
    "class ClassSchedule:\n",
    "   def __init__(self, course):\n",
    "       self.course = course\n",
    "  \n",
    "   def __del__(self):\n",
    "       print('You successfully deleted your schedule')\n"
   ]
  },
  {
   "cell_type": "markdown",
   "metadata": {},
   "source": [
    "The self parameter in the __del__() method refers to the current object. Triggering this method by deleting the object will execute the print() statement. So, if we use del to delete the sched object as such:"
   ]
  },
  {
   "cell_type": "code",
   "execution_count": 7,
   "metadata": {},
   "outputs": [
    {
     "name": "stdout",
     "output_type": "stream",
     "text": [
      "You successfully deleted your schedule\n"
     ]
    }
   ],
   "source": [
    "sched = ClassSchedule('Chemistry')\n",
    "del sched\n"
   ]
  },
  {
   "cell_type": "markdown",
   "metadata": {},
   "source": [
    "We’ll get the following output because __del__ is triggered:"
   ]
  },
  {
   "cell_type": "code",
   "execution_count": 8,
   "metadata": {},
   "outputs": [],
   "source": [
    "# You successfully deleted your schedule\n"
   ]
  },
  {
   "cell_type": "markdown",
   "metadata": {},
   "source": [
    "### Try It Out!\n",
    "Coding question\n",
    "Questions\n",
    "Take a look at the following code and play around with it to get a better understanding of constructors and destructors."
   ]
  },
  {
   "cell_type": "code",
   "execution_count": 9,
   "metadata": {},
   "outputs": [
    {
     "name": "stdout",
     "output_type": "stream",
     "text": [
      "You successfully deleted your schedule\n"
     ]
    }
   ],
   "source": [
    "class ClassSchedule:\n",
    "   def __init__(self, course):\n",
    "       self.course = course\n",
    " \n",
    "   def __del__(self):\n",
    "       print('You successfully deleted your schedule')\n",
    "\n",
    "# create a ClassSchedule object\n",
    "sched = ClassSchedule('Chemistry')\n",
    "# delete the ClassSchedule object\n",
    "del sched\n"
   ]
  },
  {
   "cell_type": "markdown",
   "metadata": {},
   "source": []
  }
 ],
 "metadata": {
  "kernelspec": {
   "display_name": "Python 3",
   "language": "python",
   "name": "python3"
  },
  "language_info": {
   "codemirror_mode": {
    "name": "ipython",
    "version": 3
   },
   "file_extension": ".py",
   "mimetype": "text/x-python",
   "name": "python",
   "nbconvert_exporter": "python",
   "pygments_lexer": "ipython3",
   "version": "3.13.0"
  }
 },
 "nbformat": 4,
 "nbformat_minor": 2
}
