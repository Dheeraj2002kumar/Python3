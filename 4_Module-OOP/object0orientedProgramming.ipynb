{
 "cells": [
  {
   "cell_type": "markdown",
   "metadata": {},
   "source": [
    "# Classes and Objects"
   ]
  },
  {
   "cell_type": "markdown",
   "metadata": {},
   "source": [
    "<b>Get started with object-oriented programming in Python.</b>\n",
    "\n",
    "Object-Oriented Programming (OOP) is a programming paradigm that allows for the organization of code with data states and functionalities. Code with OOP is modular, abstract, and easy to maintain. In this article, we’ll cover classes and objects, which are the backbones of OOP."
   ]
  },
  {
   "cell_type": "markdown",
   "metadata": {},
   "source": [
    "### Classes\n",
    "A class is a data type that encapsulates information and functions as a blueprint for objects. Let’s take a look at the syntax for creating a new class:"
   ]
  },
  {
   "cell_type": "code",
   "execution_count": 1,
   "metadata": {},
   "outputs": [],
   "source": [
    "class Dog:\n",
    "   # this is a blank class\n",
    "   pass\n"
   ]
  },
  {
   "cell_type": "markdown",
   "metadata": {},
   "source": [
    "To create a class, use the class keyword followed by the name of the class and :. A new line with indentation marks the beginning of the class body."
   ]
  },
  {
   "cell_type": "markdown",
   "metadata": {},
   "source": [
    "### Objects\n",
    "An object is an instance of a class, which means the object contains everything from the class that it’s instantiated from. We can take the above class Dog and create an object named pepper as such:"
   ]
  },
  {
   "cell_type": "code",
   "execution_count": 2,
   "metadata": {},
   "outputs": [
    {
     "name": "stdout",
     "output_type": "stream",
     "text": [
      "<__main__.Dog object at 0x000002A5493D3E00>\n"
     ]
    }
   ],
   "source": [
    "pepper = Dog()\n",
    "print(pepper)\n"
   ]
  },
  {
   "cell_type": "markdown",
   "metadata": {},
   "source": [
    "### Try It Out!\n",
    "Coding question\n",
    "Questions\n",
    "Take a look at the following code and play around with it to get a better understanding of classes and objects."
   ]
  },
  {
   "cell_type": "code",
   "execution_count": 3,
   "metadata": {},
   "outputs": [
    {
     "name": "stdout",
     "output_type": "stream",
     "text": [
      "<__main__.Dog object at 0x000002A5493D3CB0>\n"
     ]
    }
   ],
   "source": [
    "class Dog:\n",
    "   # this is a blank class\n",
    "   pass\n",
    "pepper = Dog()\n",
    "print(pepper)\n"
   ]
  },
  {
   "cell_type": "markdown",
   "metadata": {},
   "source": [
    "# Constructors and Destructors"
   ]
  },
  {
   "cell_type": "markdown",
   "metadata": {},
   "source": [
    "<b>Learn about constructors and destructors in Python.</b>\n",
    "\n",
    "In object-oriented programming (OOP), constructors are functions that are called when an object of a class is created and destructors are called to delete an object. In this article, we’ll cover the following:\n",
    "\n",
    "- Constructors\n",
    "- Destructors"
   ]
  },
  {
   "cell_type": "markdown",
   "metadata": {},
   "source": [
    "### Constructors\n",
    "Constructors are special functions that are executed when an object is instantiated. In Python, the `__init__()` function is used as the constructor and is called when creating an object."
   ]
  },
  {
   "cell_type": "markdown",
   "metadata": {},
   "source": [
    "### init()\n",
    "It is common practice for classes to contain Python’s built-in `__init__()` method as the constructor. In the example below, the `__init__()` method would be called every time the ClassSchedule class is instantiated, and used to initialize a newly created object:"
   ]
  },
  {
   "cell_type": "code",
   "execution_count": 4,
   "metadata": {},
   "outputs": [],
   "source": [
    "class ClassSchedule:\n",
    "   def __init__(self, course):\n",
    "       self.course = course\n"
   ]
  },
  {
   "cell_type": "markdown",
   "metadata": {},
   "source": [
    "### Instance Variables\n",
    "The self parameter in the `__init__()` method refers to the current instance and the instance variable course allows for input to assign a value. We can create a class instance by calling the class and inputting the value for course. Let’s create an instance with the instance variable ’Chemistry’ and assign it to an object named first:"
   ]
  },
  {
   "cell_type": "code",
   "execution_count": 5,
   "metadata": {},
   "outputs": [
    {
     "name": "stdout",
     "output_type": "stream",
     "text": [
      "Chemistry\n"
     ]
    }
   ],
   "source": [
    "class ClassSchedule:\n",
    "    def __init__(self, course):\n",
    "        self.course = course\n",
    "\n",
    "first = ClassSchedule('Chemistry')\n",
    "print(first.course)\n"
   ]
  },
  {
   "cell_type": "markdown",
   "metadata": {},
   "source": [
    "### Destructors\n",
    "Destructors are special functions that are called when an object gets deleted. In Python, the `__del__()` method is commonly used as the destructor and is called when an object is deleted.\n",
    "\n",
    "#### del()\n",
    "Python’s built-in `__del__()` method represents the destructor in a class. In the example below, the `__del__()` method would be called every time an object initiated from the ClassSchedule class is deleted."
   ]
  },
  {
   "cell_type": "code",
   "execution_count": 6,
   "metadata": {},
   "outputs": [],
   "source": [
    "class ClassSchedule:\n",
    "   def __init__(self, course):\n",
    "       self.course = course\n",
    "  \n",
    "   def __del__(self):\n",
    "       print('You successfully deleted your schedule')\n"
   ]
  },
  {
   "cell_type": "markdown",
   "metadata": {},
   "source": [
    "The self parameter in the __del__() method refers to the current object. Triggering this method by deleting the object will execute the print() statement. So, if we use del to delete the sched object as such:"
   ]
  },
  {
   "cell_type": "code",
   "execution_count": 7,
   "metadata": {},
   "outputs": [
    {
     "name": "stdout",
     "output_type": "stream",
     "text": [
      "You successfully deleted your schedule\n"
     ]
    }
   ],
   "source": [
    "sched = ClassSchedule('Chemistry')\n",
    "del sched\n"
   ]
  },
  {
   "cell_type": "markdown",
   "metadata": {},
   "source": [
    "We’ll get the following output because __del__ is triggered:"
   ]
  },
  {
   "cell_type": "code",
   "execution_count": 8,
   "metadata": {},
   "outputs": [],
   "source": [
    "# You successfully deleted your schedule\n"
   ]
  },
  {
   "cell_type": "markdown",
   "metadata": {},
   "source": [
    "### Try It Out!\n",
    "Coding question\n",
    "Questions\n",
    "Take a look at the following code and play around with it to get a better understanding of constructors and destructors."
   ]
  },
  {
   "cell_type": "code",
   "execution_count": 9,
   "metadata": {},
   "outputs": [
    {
     "name": "stdout",
     "output_type": "stream",
     "text": [
      "You successfully deleted your schedule\n"
     ]
    }
   ],
   "source": [
    "class ClassSchedule:\n",
    "   def __init__(self, course):\n",
    "       self.course = course\n",
    " \n",
    "   def __del__(self):\n",
    "       print('You successfully deleted your schedule')\n",
    "\n",
    "# create a ClassSchedule object\n",
    "sched = ClassSchedule('Chemistry')\n",
    "# delete the ClassSchedule object\n",
    "del sched\n"
   ]
  },
  {
   "cell_type": "markdown",
   "metadata": {},
   "source": [
    "# Access Modifications"
   ]
  },
  {
   "cell_type": "markdown",
   "metadata": {},
   "source": [
    "<b>Learn about access modifiers in Python.</b>\n",
    "\n",
    "In programming, access modifiers are used to control or restrict access to members, also known as variables and methods, within a class. These modifiers play an important role in limiting access to secure the members within the class. This article will cover the three access modifiers within Python:\n",
    "\n",
    "- Public Access Modifiers\n",
    "- Protected Access Modifiers\n",
    "- Private Access Modifiers"
   ]
  },
  {
   "cell_type": "markdown",
   "metadata": {},
   "source": [
    "### Public Access Modifier\n",
    "By default, all members within a class are public, and there’s no need to specify access modifiers for public members. Being public means that these members can easily be accessed outside of the class, in another part of the program. For example, if we had the following:"
   ]
  },
  {
   "cell_type": "code",
   "execution_count": 10,
   "metadata": {},
   "outputs": [],
   "source": [
    "class ClassSchedule:\n",
    "   def __init__(self, course, instructor):\n",
    "       self.course = course\n",
    "       self.instructor = instructor\n",
    "  \n",
    "   def display_course(self):\n",
    "       print(f'Course: {self.course}, Instructor: {self.instructor}')\n"
   ]
  },
  {
   "cell_type": "markdown",
   "metadata": {},
   "source": [
    "All members here are accessible outside of the class. For example, we can access the variable course and method display_course() without any limitations:"
   ]
  },
  {
   "cell_type": "code",
   "execution_count": 11,
   "metadata": {},
   "outputs": [
    {
     "name": "stdout",
     "output_type": "stream",
     "text": [
      "Course: Chemistry, Instructor: Mr. Doe\n"
     ]
    },
    {
     "data": {
      "text/plain": [
       "'Chemistry'"
      ]
     },
     "execution_count": 11,
     "metadata": {},
     "output_type": "execute_result"
    }
   ],
   "source": [
    "sched = ClassSchedule('Chemistry', 'Mr. Doe') # initializing\n",
    " \n",
    "sched.display_course() # prints Course: Chemistry, Instructor: Mr. Doe\n",
    "sched.course # prints 'Chemistry\n"
   ]
  },
  {
   "cell_type": "markdown",
   "metadata": {},
   "source": [
    "### Protected Access Modifier\n",
    "Protected access modifiers, denoted with the prefix _, prevent members from being accessed outside of the class, unless it’s from a subclass. Let’s modify the class from the example above and make the members course and instructor protected with the _."
   ]
  },
  {
   "cell_type": "code",
   "execution_count": 12,
   "metadata": {},
   "outputs": [
    {
     "name": "stdout",
     "output_type": "stream",
     "text": [
      "Course: Biology, Instructor: Ms. Smith\n"
     ]
    }
   ],
   "source": [
    "class ClassSchedule:\n",
    "   def __init__(self, course, instructor):\n",
    "       self._course = course # protected\n",
    "       self._instructor = instructor # protected\n",
    "  \n",
    "   def display_course(self):\n",
    "       print(f'Course: {self._course}, Instructor: {self._instructor}')\n",
    " \n",
    "sched = ClassSchedule('Biology', 'Ms. Smith')\n",
    "sched.display_course()\n"
   ]
  },
  {
   "cell_type": "markdown",
   "metadata": {},
   "source": [
    "The variables course and instructor are now protected members in the class."
   ]
  },
  {
   "cell_type": "markdown",
   "metadata": {},
   "source": [
    "### Private Access Modifier\n",
    "Private access modifiers, denoted with the prefix __, declare members to be accessible within the class only. Members with this modifier will be marked private and any attempt to access these members outside of the class will cause an Attribute Error message."
   ]
  },
  {
   "cell_type": "code",
   "execution_count": 13,
   "metadata": {},
   "outputs": [
    {
     "ename": "AttributeError",
     "evalue": "'ClassSchedule' object has no attribute '__course'",
     "output_type": "error",
     "traceback": [
      "\u001b[1;31m---------------------------------------------------------------------------\u001b[0m",
      "\u001b[1;31mAttributeError\u001b[0m                            Traceback (most recent call last)",
      "Cell \u001b[1;32mIn[13], line 13\u001b[0m\n\u001b[0;32m      9\u001b[0m        \u001b[38;5;28mprint\u001b[39m(\u001b[38;5;124mf\u001b[39m\u001b[38;5;124m'\u001b[39m\u001b[38;5;124mCourse: \u001b[39m\u001b[38;5;132;01m{\u001b[39;00m\u001b[38;5;28mself\u001b[39m\u001b[38;5;241m.\u001b[39m__course\u001b[38;5;132;01m}\u001b[39;00m\u001b[38;5;124m, Instructor: \u001b[39m\u001b[38;5;132;01m{\u001b[39;00m\u001b[38;5;28mself\u001b[39m\u001b[38;5;241m.\u001b[39m__instructor\u001b[38;5;132;01m}\u001b[39;00m\u001b[38;5;124m'\u001b[39m)\n\u001b[0;32m     11\u001b[0m sched \u001b[38;5;241m=\u001b[39m ClassSchedule(\u001b[38;5;124m'\u001b[39m\u001b[38;5;124mBiology\u001b[39m\u001b[38;5;124m'\u001b[39m, \u001b[38;5;124m'\u001b[39m\u001b[38;5;124mMs. Smith\u001b[39m\u001b[38;5;124m'\u001b[39m)\n\u001b[1;32m---> 13\u001b[0m \u001b[43msched\u001b[49m\u001b[38;5;241;43m.\u001b[39;49m\u001b[43m__course\u001b[49m \u001b[38;5;66;03m# this will throw an Attribute Error because we're trying to access a private member\u001b[39;00m\n\u001b[0;32m     15\u001b[0m sched\u001b[38;5;241m.\u001b[39mdisplay_course() \u001b[38;5;66;03m# this won't throw an Attribute Error because this method is public\u001b[39;00m\n",
      "\u001b[1;31mAttributeError\u001b[0m: 'ClassSchedule' object has no attribute '__course'"
     ]
    }
   ],
   "source": [
    "class ClassSchedule:\n",
    "   def __init__(self, course, instructor):\n",
    "       self.__course = course # private\n",
    "       self.__instructor = instructor # private\n",
    "  \n",
    "   def display_course(self):\n",
    "       # public\n",
    " \n",
    "       print(f'Course: {self.__course}, Instructor: {self.__instructor}')\n",
    " \n",
    "sched = ClassSchedule('Biology', 'Ms. Smith')\n",
    " \n",
    "sched.__course # this will throw an Attribute Error because we're trying to access a private member\n",
    " \n",
    "sched.display_course() # this won't throw an Attribute Error because this method is public\n"
   ]
  },
  {
   "cell_type": "markdown",
   "metadata": {},
   "source": [
    "### Try It Out!\n",
    "Coding question\n",
    "Questions\n",
    "Take a look at the following code and play around with it to get a better understanding of different access modifiers in Python."
   ]
  },
  {
   "cell_type": "code",
   "execution_count": 14,
   "metadata": {},
   "outputs": [
    {
     "name": "stdout",
     "output_type": "stream",
     "text": [
      "Course: Biology, Instructor: Ms. Smith\n"
     ]
    }
   ],
   "source": [
    "class ClassSchedule:\n",
    "   def __init__(self, course, instructor):\n",
    "       self.__course = course # private\n",
    "       self.__instructor = instructor # private\n",
    " \n",
    "   def display_course(self):\n",
    "       # public\n",
    " \n",
    "       print(f'Course: {self.__course}, Instructor: {self.__instructor}')\n",
    " \n",
    "sched = ClassSchedule('Biology', 'Ms. Smith')\n",
    "\n",
    "# the following will throw an Attribute Error because we're trying to access a private member\n",
    "#sched.__course \n",
    " \n",
    "\n",
    "# this line won't throw an Attribute Error because this method is publi\n",
    "sched.display_course() \n"
   ]
  },
  {
   "cell_type": "markdown",
   "metadata": {},
   "source": [
    "# Encapsulation"
   ]
  },
  {
   "cell_type": "markdown",
   "metadata": {},
   "source": [
    "<b>Learn about encapsulation in Python.</b>\n",
    "\n",
    "In object-oriented programming (OOP), encapsulation is a fundamental concept that describes wrapping variables and methods in one unit.\n",
    "\n",
    "A popular example of encapsulation is a class, as it “encapsulates” members such as variables and methods in one single unit. In this article, we’ll explore different members of a class."
   ]
  },
  {
   "cell_type": "markdown",
   "metadata": {},
   "source": [
    "### Class Variables\n",
    "A class can contain variables that can only be accessed by an object of the class. The example below shows the class UserInfo with a constructor that takes in variables username and email_address:"
   ]
  },
  {
   "cell_type": "code",
   "execution_count": 15,
   "metadata": {},
   "outputs": [
    {
     "data": {
      "text/plain": [
       "'abc@edf.ghi'"
      ]
     },
     "execution_count": 15,
     "metadata": {},
     "output_type": "execute_result"
    }
   ],
   "source": [
    "class UserInfo:\n",
    "   def __init__(self, username, email_address):\n",
    "       self.username = username\n",
    "       self.email_address = email_address\n",
    "user = UserInfo('user123', 'abc@edf.ghi')\n",
    " \n",
    "user.username\n",
    "user.email_address\n"
   ]
  },
  {
   "cell_type": "markdown",
   "metadata": {},
   "source": [
    "The data saved in the object can be accessed using the variables. For example, calling user.username will return ’user123’, and calling user.email_address will return ’abc@efd.ghi’."
   ]
  },
  {
   "cell_type": "markdown",
   "metadata": {},
   "source": [
    "### Class Methods\n",
    "A class can also contain methods that can be accessed by objects of the class. The example below shows the class UserInfo with the method check_username that checks whether a username is saved in the object or not:"
   ]
  },
  {
   "cell_type": "code",
   "execution_count": 16,
   "metadata": {},
   "outputs": [],
   "source": [
    "class UserInfo:\n",
    "   def __init__(self, username, email_address):\n",
    "      self.username = username\n",
    "      self.email_address = email_address\n",
    " \n",
    "   def check_username(self, username_to_check):\n",
    "       if username_to_check == self.username:\n",
    "           return True\n",
    "       else:\n",
    "           return False\n"
   ]
  },
  {
   "cell_type": "code",
   "execution_count": 18,
   "metadata": {},
   "outputs": [],
   "source": [
    "# We can call the method check_username on our object to run the method:\n",
    "\n"
   ]
  },
  {
   "cell_type": "code",
   "execution_count": 19,
   "metadata": {},
   "outputs": [
    {
     "data": {
      "text/plain": [
       "False"
      ]
     },
     "execution_count": 19,
     "metadata": {},
     "output_type": "execute_result"
    }
   ],
   "source": [
    "user = UserInfo('user123', 'abc@edf.ghi')\n",
    " \n",
    "user.check_username('user123') # returns True\n",
    "user.check_username('user456') # returns False\n"
   ]
  },
  {
   "cell_type": "markdown",
   "metadata": {},
   "source": [
    "### Try It Yourself\n",
    "#### Coding question\n",
    "Questions\n",
    "Take a look at the following code and play around with it to get a better understanding of variables and methods in a class."
   ]
  },
  {
   "cell_type": "code",
   "execution_count": 20,
   "metadata": {},
   "outputs": [
    {
     "name": "stdout",
     "output_type": "stream",
     "text": [
      "True\n",
      "False\n"
     ]
    }
   ],
   "source": [
    "class UserInfo:\n",
    "   def __init__(self, username, email_address):\n",
    "      self.username = username\n",
    "      self.email_address = email_address\n",
    "\n",
    "   def check_username(self, username_to_check):\n",
    "       if username_to_check == self.username:\n",
    "           return True\n",
    "       else:\n",
    "           return False\n",
    "\n",
    "user = UserInfo('user123', 'abc@edf.ghi')\n",
    "\n",
    "print(user.check_username('user123')) # returns True\n",
    "print(user.check_username('user456')) # returns False\n"
   ]
  },
  {
   "cell_type": "markdown",
   "metadata": {},
   "source": [
    "# Inheritance"
   ]
  },
  {
   "cell_type": "markdown",
   "metadata": {},
   "source": [
    "<b>Learn about inheritance in Python.</b>\n",
    "\n",
    "Inheritance is a feature of object-oriented programming (OOP) that enables the transfer of methods and properties of one class to another. Inheritance allows for reusability of code as well as extending the capability of new classes. In this article, we’ll cover the two main components of inheritance:\n",
    "\n",
    "- Parent class\n",
    "- Child class"
   ]
  },
  {
   "cell_type": "markdown",
   "metadata": {},
   "source": [
    "### Parent Class\n",
    "The parent class, also known as base class, is the class whose methods and properties transfer over to the child class. We can define a parent class like we would for any class, with the constructor and any methods and properties we want to include. See an example of a class below:"
   ]
  },
  {
   "cell_type": "code",
   "execution_count": 21,
   "metadata": {},
   "outputs": [],
   "source": [
    "class Person:\n",
    "    def __init__(self, name, age):\n",
    "        self.name = name\n",
    "        self.age = age\n",
    "\n",
    "    def print_info(self):\n",
    "        print(f'{self.name} is {self.age} years old')\n"
   ]
  },
  {
   "cell_type": "markdown",
   "metadata": {},
   "source": [
    "### Child Class\n",
    "The child class, also known as the derived class, is the class that inherits methods and properties from the parent class. The child class must contain the following:\n",
    "\n",
    "- Name of the parent class in the definition of the child class\n",
    "- Constructor of the parent class called within the constructor of the child class\n",
    "\n",
    "The following example shows Person as the parent class as well as a child class named Teacher:"
   ]
  },
  {
   "cell_type": "code",
   "execution_count": 22,
   "metadata": {},
   "outputs": [],
   "source": [
    "class Person:\n",
    "  def __init__(self, name, age):\n",
    "      self.name = name\n",
    "      self.age = age\n",
    "  def print_info(self):\n",
    "      print(self.name)\n",
    "      print(self.age)\n",
    " \n",
    "class Teacher(Person):\n",
    "  def __init__(self, name, age, subject):\n",
    "      self.subject = subject\n",
    " \n",
    "      Person.__init__(self, name, age)\n"
   ]
  },
  {
   "cell_type": "markdown",
   "metadata": {},
   "source": [
    "### Try It Out!\n",
    "#### Coding question\n",
    "Questions\n",
    "Take a look at the following code and play around with it to get a better understanding of inheritance in Python."
   ]
  },
  {
   "cell_type": "code",
   "execution_count": 23,
   "metadata": {},
   "outputs": [
    {
     "name": "stdout",
     "output_type": "stream",
     "text": [
      "Dr. Hirani\n",
      "49\n",
      "Computer Science\n"
     ]
    }
   ],
   "source": [
    "class Person:\n",
    "  def __init__(self, name, age):\n",
    "      self.name = name\n",
    "      self.age = age\n",
    "  def print_info(self):\n",
    "      print(self.name)\n",
    "      print(self.age)\n",
    "\n",
    "class Teacher(Person):\n",
    "  def __init__(self, name, age, subject):\n",
    "      self.subject = subject\n",
    "\n",
    "      Person.__init__(self, name, age)\n",
    "\n",
    "\n",
    "myTeacher = Teacher(\"Dr. Hirani\", 49, \"Computer Science\")\n",
    "myTeacher.print_info()\n",
    "print(myTeacher.subject)\n"
   ]
  },
  {
   "cell_type": "markdown",
   "metadata": {},
   "source": [
    "# Polymorphism"
   ]
  },
  {
   "cell_type": "markdown",
   "metadata": {},
   "source": [
    "<b>Learn about polymorphism in Python.</b>\n",
    "\n",
    "In this article, we’ll specifically focus on polymorphism within classes in object-oriented programming (OOP). Polymorphism in OOP is the concept of classes sharing methods with the same name. This becomes useful when there are objects initiated from different classes that may share similar methods."
   ]
  },
  {
   "cell_type": "markdown",
   "metadata": {},
   "source": [
    "### Polymorphism with Classes\n",
    "In Python, classes are allowed to contain methods that share the same name as another method from a different class. The code below shows two different classes that are independent of each other with some methods of the same names:"
   ]
  },
  {
   "cell_type": "code",
   "execution_count": 24,
   "metadata": {},
   "outputs": [],
   "source": [
    "class Checking():\n",
    "   def type(self):\n",
    "       print('You have a checking account at the Codecademy Bank.')\n",
    " \n",
    "   def balance(self):\n",
    "       print('$20 left in your checking.')\n",
    " \n",
    "class Savings():\n",
    "   def type(self):\n",
    "       print('You have a savings account at the Codecademy Bank.')\n",
    "  \n",
    "   def balance(self):\n",
    "       print('$1000 left in your savings.')\n"
   ]
  },
  {
   "cell_type": "markdown",
   "metadata": {},
   "source": [
    "We can create an object for each class, and without worrying about which object belongs to which class, we can call the same methods. In the for loop, the variable account iterates through the tuple with the two objects, and executes the method for each class accordingly:"
   ]
  },
  {
   "cell_type": "code",
   "execution_count": 25,
   "metadata": {},
   "outputs": [
    {
     "name": "stdout",
     "output_type": "stream",
     "text": [
      "You have a checking account at the Codecademy Bank.\n",
      "$20 left in your checking.\n",
      "You have a savings account at the Codecademy Bank.\n",
      "$1000 left in your savings.\n"
     ]
    }
   ],
   "source": [
    "account_a = Checking()\n",
    "account_b = Savings()\n",
    " \n",
    "for account in (account_a, account_b):\n",
    "   account.type()\n",
    "   account.balance()\n"
   ]
  },
  {
   "cell_type": "markdown",
   "metadata": {},
   "source": [
    "### Try It Out!\n",
    "#### Coding question\n",
    "Questions\n",
    "Take a look at the following code and play around with it to get a better understanding of polymorphism."
   ]
  },
  {
   "cell_type": "code",
   "execution_count": 26,
   "metadata": {},
   "outputs": [
    {
     "name": "stdout",
     "output_type": "stream",
     "text": [
      "You have a checking account at the Codecademy Bank.\n",
      "$20 left in your checking.\n",
      "You have a savings account at the Codecademy Bank.\n",
      "$1000 left in your savings.\n"
     ]
    }
   ],
   "source": [
    "class Checking():\n",
    "   def type(self):\n",
    "       print('You have a checking account at the Codecademy Bank.')\n",
    " \n",
    "   def balance(self):\n",
    "       print('$20 left in your checking.')\n",
    " \n",
    "class Savings():\n",
    "   def type(self):\n",
    "       print('You have a savings account at the Codecademy Bank.')\n",
    " \n",
    "   def balance(self):\n",
    "       print('$1000 left in your savings.')\n",
    "\n",
    "\n",
    "account_a = Checking()\n",
    "account_b = Savings()\n",
    " \n",
    "for account in (account_a, account_b):\n",
    "   account.type()\n",
    "   account.balance()\n"
   ]
  },
  {
   "cell_type": "markdown",
   "metadata": {},
   "source": []
  }
 ],
 "metadata": {
  "kernelspec": {
   "display_name": "Python 3",
   "language": "python",
   "name": "python3"
  },
  "language_info": {
   "codemirror_mode": {
    "name": "ipython",
    "version": 3
   },
   "file_extension": ".py",
   "mimetype": "text/x-python",
   "name": "python",
   "nbconvert_exporter": "python",
   "pygments_lexer": "ipython3",
   "version": "3.13.0"
  }
 },
 "nbformat": 4,
 "nbformat_minor": 2
}
