{
 "cells": [
  {
   "cell_type": "markdown",
   "metadata": {},
   "source": [
    "# Function Basics"
   ]
  },
  {
   "cell_type": "markdown",
   "metadata": {},
   "source": [
    "Learn how to create functions in Python.\n",
    "\n",
    "A function in Python contains code that is executed when it is called. Functions make code reusable and repeatable. In this article, we’ll cover the following topics:\n",
    "\n",
    "- Creating a function\n",
    "- Using a function\n",
    "- Parameters\n",
    "- Arguments"
   ]
  },
  {
   "cell_type": "markdown",
   "metadata": {},
   "source": [
    "### Creating a Function\n",
    "The following example shows the structure of a function in Python:"
   ]
  },
  {
   "cell_type": "code",
   "execution_count": 1,
   "metadata": {},
   "outputs": [],
   "source": [
    "def add_three(num1, num2, num3):\n",
    "   sum_three = num1 + num2 + num3\n",
    "   return sum_three\n"
   ]
  },
  {
   "cell_type": "markdown",
   "metadata": {},
   "source": [
    "Here is a breakdown of this function:\n",
    "\n",
    "- def is the built-in keyword in Python that is used to declare functions.\n",
    "- add_three is the name of the function.\n",
    "- (num1, num2, num3) is the list of parameters needed for the function.\n",
    "- : indicates the start of the function body.\n",
    "- sum_three = num1 + num2 + num3’ is the code in the function body followed by the indentation.\n",
    "- return is the built-in keyword that exits the function and returns the output sum_three."
   ]
  },
  {
   "cell_type": "markdown",
   "metadata": {},
   "source": [
    "### Using a Function\n",
    "Functions can be used by calling the function name with parentheses. Let’s try to call the function add_three that we defined above, and assign it to the variable sum_output:"
   ]
  },
  {
   "cell_type": "code",
   "execution_count": 2,
   "metadata": {},
   "outputs": [],
   "source": [
    "sum_output = add_three(2, 4, 6)\n"
   ]
  },
  {
   "cell_type": "markdown",
   "metadata": {},
   "source": [
    "We can check the output by using the print() statement. This would return the output:"
   ]
  },
  {
   "cell_type": "code",
   "execution_count": 3,
   "metadata": {},
   "outputs": [
    {
     "name": "stdout",
     "output_type": "stream",
     "text": [
      "12\n"
     ]
    }
   ],
   "source": [
    "print(sum_output)\n"
   ]
  },
  {
   "cell_type": "markdown",
   "metadata": {},
   "source": [
    "### Parameters\n",
    "Functions can be built to include parameters. Parameters are treated as local variables within the body of the function. The function below has the parameter language."
   ]
  },
  {
   "cell_type": "code",
   "execution_count": 4,
   "metadata": {},
   "outputs": [],
   "source": [
    "def greetings(language):\n",
    "   if language == 'Spanish':\n",
    "       greeting = 'Hola'\n",
    " \n",
    "   elif language == 'English':\n",
    "       greeting = 'Hello'\n",
    " \n",
    "   elif language == 'French':\n",
    "       greeting = 'Bonjour'\n",
    " \n",
    "   print(greeting)\n"
   ]
  },
  {
   "cell_type": "markdown",
   "metadata": {},
   "source": [
    "### Arguments\n",
    "Arguments are values that can be passed into the function and used as parameters. We can call the above function with the argument French like this:"
   ]
  },
  {
   "cell_type": "code",
   "execution_count": 5,
   "metadata": {},
   "outputs": [
    {
     "name": "stdout",
     "output_type": "stream",
     "text": [
      "Bonjour\n"
     ]
    }
   ],
   "source": [
    "greetings('French')\n"
   ]
  },
  {
   "cell_type": "markdown",
   "metadata": {},
   "source": [
    "Take a look at the following code and play around with it to get a better understanding of functions, with or without parameters."
   ]
  },
  {
   "cell_type": "code",
   "execution_count": 6,
   "metadata": {},
   "outputs": [
    {
     "name": "stdout",
     "output_type": "stream",
     "text": [
      "Bonjour\n"
     ]
    }
   ],
   "source": [
    "def greetings(language):\n",
    "   if language == 'Spanish':\n",
    "       greeting = 'Hola'\n",
    " \n",
    "   elif language == 'English':\n",
    "       greeting = 'Hello'\n",
    " \n",
    "   elif language == 'French':\n",
    "       greeting = 'Bonjour'\n",
    " \n",
    "   print(greeting)\n",
    "\n",
    "greetings('French')\n"
   ]
  },
  {
   "cell_type": "code",
   "execution_count": null,
   "metadata": {},
   "outputs": [],
   "source": []
  }
 ],
 "metadata": {
  "kernelspec": {
   "display_name": "Python 3",
   "language": "python",
   "name": "python3"
  },
  "language_info": {
   "codemirror_mode": {
    "name": "ipython",
    "version": 3
   },
   "file_extension": ".py",
   "mimetype": "text/x-python",
   "name": "python",
   "nbconvert_exporter": "python",
   "pygments_lexer": "ipython3",
   "version": "3.13.0"
  }
 },
 "nbformat": 4,
 "nbformat_minor": 2
}
