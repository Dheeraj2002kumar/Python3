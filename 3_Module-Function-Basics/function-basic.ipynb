{
 "cells": [
  {
   "cell_type": "markdown",
   "metadata": {},
   "source": [
    "# Function Basics"
   ]
  },
  {
   "cell_type": "markdown",
   "metadata": {},
   "source": [
    "Learn how to create functions in Python.\n",
    "\n",
    "A function in Python contains code that is executed when it is called. Functions make code reusable and repeatable. In this article, we’ll cover the following topics:\n",
    "\n",
    "- Creating a function\n",
    "- Using a function\n",
    "- Parameters\n",
    "- Arguments"
   ]
  },
  {
   "cell_type": "markdown",
   "metadata": {},
   "source": [
    "### Creating a Function\n",
    "The following example shows the structure of a function in Python:"
   ]
  },
  {
   "cell_type": "code",
   "execution_count": 1,
   "metadata": {},
   "outputs": [],
   "source": [
    "def add_three(num1, num2, num3):\n",
    "   sum_three = num1 + num2 + num3\n",
    "   return sum_three\n"
   ]
  },
  {
   "cell_type": "markdown",
   "metadata": {},
   "source": [
    "Here is a breakdown of this function:\n",
    "\n",
    "- def is the built-in keyword in Python that is used to declare functions.\n",
    "- add_three is the name of the function.\n",
    "- (num1, num2, num3) is the list of parameters needed for the function.\n",
    "- : indicates the start of the function body.\n",
    "- sum_three = num1 + num2 + num3’ is the code in the function body followed by the indentation.\n",
    "- return is the built-in keyword that exits the function and returns the output sum_three."
   ]
  },
  {
   "cell_type": "markdown",
   "metadata": {},
   "source": [
    "### Using a Function\n",
    "Functions can be used by calling the function name with parentheses. Let’s try to call the function add_three that we defined above, and assign it to the variable sum_output:"
   ]
  },
  {
   "cell_type": "code",
   "execution_count": 2,
   "metadata": {},
   "outputs": [],
   "source": [
    "sum_output = add_three(2, 4, 6)\n"
   ]
  },
  {
   "cell_type": "markdown",
   "metadata": {},
   "source": [
    "We can check the output by using the print() statement. This would return the output:"
   ]
  },
  {
   "cell_type": "code",
   "execution_count": 3,
   "metadata": {},
   "outputs": [
    {
     "name": "stdout",
     "output_type": "stream",
     "text": [
      "12\n"
     ]
    }
   ],
   "source": [
    "print(sum_output)\n"
   ]
  },
  {
   "cell_type": "markdown",
   "metadata": {},
   "source": [
    "### Parameters\n",
    "Functions can be built to include parameters. Parameters are treated as local variables within the body of the function. The function below has the parameter language."
   ]
  },
  {
   "cell_type": "code",
   "execution_count": 4,
   "metadata": {},
   "outputs": [],
   "source": [
    "def greetings(language):\n",
    "   if language == 'Spanish':\n",
    "       greeting = 'Hola'\n",
    " \n",
    "   elif language == 'English':\n",
    "       greeting = 'Hello'\n",
    " \n",
    "   elif language == 'French':\n",
    "       greeting = 'Bonjour'\n",
    " \n",
    "   print(greeting)\n"
   ]
  },
  {
   "cell_type": "markdown",
   "metadata": {},
   "source": [
    "### Arguments\n",
    "Arguments are values that can be passed into the function and used as parameters. We can call the above function with the argument French like this:"
   ]
  },
  {
   "cell_type": "code",
   "execution_count": 5,
   "metadata": {},
   "outputs": [
    {
     "name": "stdout",
     "output_type": "stream",
     "text": [
      "Bonjour\n"
     ]
    }
   ],
   "source": [
    "greetings('French')\n"
   ]
  },
  {
   "cell_type": "markdown",
   "metadata": {},
   "source": [
    "Take a look at the following code and play around with it to get a better understanding of functions, with or without parameters."
   ]
  },
  {
   "cell_type": "code",
   "execution_count": 6,
   "metadata": {},
   "outputs": [
    {
     "name": "stdout",
     "output_type": "stream",
     "text": [
      "Bonjour\n"
     ]
    }
   ],
   "source": [
    "def greetings(language):\n",
    "   if language == 'Spanish':\n",
    "       greeting = 'Hola'\n",
    " \n",
    "   elif language == 'English':\n",
    "       greeting = 'Hello'\n",
    " \n",
    "   elif language == 'French':\n",
    "       greeting = 'Bonjour'\n",
    " \n",
    "   print(greeting)\n",
    "\n",
    "greetings('French')\n"
   ]
  },
  {
   "cell_type": "markdown",
   "metadata": {},
   "source": [
    "# Recursion\n",
    "#### Learn how to use recursion in Python.\n",
    "The word recursion in Python describes the process of repeatedly calling a function within itself. In this article, we’ll cover how to use recursion with functions and why we use them."
   ]
  },
  {
   "cell_type": "markdown",
   "metadata": {},
   "source": [
    "### A Recursive Function\n",
    "Let’s take a look at what a recursive function looks like:"
   ]
  },
  {
   "cell_type": "code",
   "execution_count": 8,
   "metadata": {},
   "outputs": [],
   "source": [
    "def factorial(num):\n",
    "    if num == 1:\n",
    "        return 1\n",
    "    else:\n",
    "        return num * factorial(num - 1)\n"
   ]
  },
  {
   "cell_type": "markdown",
   "metadata": {},
   "source": [
    "The above function factorial is a recursive function because it calls itself within the function. A recursive function contains two parts: recursive step and base case."
   ]
  },
  {
   "cell_type": "markdown",
   "metadata": {},
   "source": [
    "### Recursive Step\n",
    "The line of code under the else statement is the recursive step, because it calls the function factorial()."
   ]
  },
  {
   "cell_type": "markdown",
   "metadata": {},
   "source": [
    "### Base Case\n",
    "In the above function, the recursion stops when num == 1. This case is called the base case, which should be defined in every recursive function. Having a base case helps to avoid infinite recursions. The base case can be defined with an if statement like the function above. Without the base case in the factorial function above, the function would start calling factorial(0), factorial(-1) and so on."
   ]
  },
  {
   "cell_type": "markdown",
   "metadata": {},
   "source": [
    "### How It Works\n",
    "Taking the function factorial from above, let’s do a slight modification to implement a call stack that will help to visualize the recursion. Take a look at what happens if we call factorial(5):"
   ]
  },
  {
   "cell_type": "code",
   "execution_count": 9,
   "metadata": {},
   "outputs": [
    {
     "name": "stdout",
     "output_type": "stream",
     "text": [
      "call stack:  [{'input': 5}]\n",
      "call stack:  [{'input': 4}]\n",
      "call stack:  [{'input': 3}]\n",
      "call stack:  [{'input': 2}]\n",
      "base case reached! Num is 1.\n"
     ]
    },
    {
     "data": {
      "text/plain": [
       "120"
      ]
     },
     "execution_count": 9,
     "metadata": {},
     "output_type": "execute_result"
    }
   ],
   "source": [
    "def factorial(num):\n",
    "   call_stack = []\n",
    "   if num == 1:\n",
    "       print('base case reached! Num is 1.')\n",
    "       return 1\n",
    "   else:\n",
    "       call_stack.append({'input': num})\n",
    "       print('call stack: ', call_stack)\n",
    "       return num * factorial(num-1)\n",
    " \n",
    "factorial(5)\n",
    " \n",
    "# call stack:  [{'input': 5}]\n",
    "# call stack:  [{'input': 4}]\n",
    "# call stack:  [{'input': 3}]\n",
    "# call stack:  [{'input': 2}]\n",
    "# base case reached! Num is 1.\n",
    "# 120\n"
   ]
  },
  {
   "cell_type": "markdown",
   "metadata": {},
   "source": [
    "Notice the recursion stops when the base case (num = 1) is reached, and prints the final output."
   ]
  },
  {
   "cell_type": "markdown",
   "metadata": {},
   "source": [
    "Why Recurse?\n",
    "There are a few advantages of using recursion:\n",
    "\n",
    "- It produces clear code, reducing the need to repeat code.\n",
    "- It can be used for advanced data structures problems.\n",
    "- It splits a complex task into smaller tasks.\n",
    "\n",
    "To learn more, you can check out our <a href=\"https://www.codecademy.com/learn/paths/learn-recursion-python/tracks/learn-recursion-python/modules/recursion-conceptual/cheatsheet\">cheatsheet on recursion!</a>"
   ]
  },
  {
   "cell_type": "markdown",
   "metadata": {},
   "source": [
    "Take a look at the following code and play around with it to get a better understanding of recursions."
   ]
  },
  {
   "cell_type": "code",
   "execution_count": 10,
   "metadata": {},
   "outputs": [
    {
     "name": "stdout",
     "output_type": "stream",
     "text": [
      "call stack:  [{'input': 5}]\n",
      "call stack:  [{'input': 4}]\n",
      "call stack:  [{'input': 3}]\n",
      "call stack:  [{'input': 2}]\n",
      "base case reached! Num is 1.\n"
     ]
    },
    {
     "data": {
      "text/plain": [
       "120"
      ]
     },
     "execution_count": 10,
     "metadata": {},
     "output_type": "execute_result"
    }
   ],
   "source": [
    "def factorial(num):\n",
    "   call_stack = []\n",
    "   if num == 1:\n",
    "       print('base case reached! Num is 1.')\n",
    "       return 1\n",
    "   else:\n",
    "       call_stack.append({'input': num})\n",
    "       print('call stack: ', call_stack)\n",
    "       return num * factorial(num-1)\n",
    " \n",
    "factorial(5)\n"
   ]
  },
  {
   "cell_type": "markdown",
   "metadata": {},
   "source": [
    "# Lambda Functions"
   ]
  },
  {
   "cell_type": "markdown",
   "metadata": {},
   "source": [
    "<b>Learn about Lambda Functions in Python!</b>\n",
    "\n",
    "Python is known for its simplicity and readability, and one of its powerful features is the ability to create functions. While you’re probably familiar with defining functions using the def keyword, Python also offers a more concise way to create small, anonymous functions called lambda functions.\n",
    "\n",
    "In this article, we’ll dive into the world of lambda functions, exploring their syntax, use cases, and best practices. By the end, you’ll have a solid understanding of how to leverage these compact functions in your Python code."
   ]
  },
  {
   "cell_type": "markdown",
   "metadata": {},
   "source": [
    "### What are Lambda Functions?\n",
    "Lambda functions, also known as anonymous functions, are small, inline functions that can have any number of arguments but only one expression. They are defined using the lambda keyword and are typically used for short, simple operations.\n",
    "\n",
    "Unlike regular functions defined with def, lambda functions don’t have a name and are usually used in situations where you need a simple function for a short period of time.\n",
    "\n",
    "Let’s compare a regular function with a lambda function:"
   ]
  },
  {
   "cell_type": "code",
   "execution_count": 11,
   "metadata": {},
   "outputs": [],
   "source": [
    "# Regular function \n",
    "\n",
    "def square(x): \n",
    "\n",
    "    return x ** 2 \n",
    "\n",
    "  \n",
    "\n",
    "# Lambda function \n",
    "\n",
    "square_lambda = lambda x: x ** 2 \n"
   ]
  },
  {
   "cell_type": "markdown",
   "metadata": {},
   "source": [
    "Both functions square the input, but the lambda function is more concise."
   ]
  },
  {
   "cell_type": "markdown",
   "metadata": {},
   "source": [
    "### Syntax of Lambda Functions\n",
    "The basic syntax of a lambda function is:\n",
    "\n"
   ]
  },
  {
   "cell_type": "code",
   "execution_count": 12,
   "metadata": {},
   "outputs": [],
   "source": [
    "# lambda [arguments]: [expression] \n"
   ]
  },
  {
   "cell_type": "markdown",
   "metadata": {},
   "source": [
    "Here are a couple of simple examples:"
   ]
  },
  {
   "cell_type": "code",
   "execution_count": 13,
   "metadata": {},
   "outputs": [
    {
     "name": "stdout",
     "output_type": "stream",
     "text": [
      "8\n",
      "Hello, Alice!\n"
     ]
    }
   ],
   "source": [
    "# Lambda function to add two numbers \n",
    "\n",
    "add = lambda a, b: a + b \n",
    "\n",
    "print(add(3, 5))  # Output: 8 \n",
    "\n",
    "  \n",
    "\n",
    "# Lambda function to print a name \n",
    "\n",
    "greeting = lambda name: f\"Hello, {name}!\" \n",
    "\n",
    "print(greeting(\"Alice\"))  # Output: Hello, Alice! \n"
   ]
  },
  {
   "cell_type": "markdown",
   "metadata": {},
   "source": [
    "### Using Lambda Functions\n",
    "Lambda functions are most commonly used as arguments to higher-order functions such as map(), filter(), and sorted(). Higher-order functions are functions that can accept other functions, such as lambda functions, as arguments. Let’s look at some examples:"
   ]
  },
  {
   "cell_type": "markdown",
   "metadata": {},
   "source": [
    "### Using Lambda with map()\n",
    "The map() function applies the given lambda function to each item in a list:"
   ]
  },
  {
   "cell_type": "code",
   "execution_count": 14,
   "metadata": {},
   "outputs": [
    {
     "name": "stdout",
     "output_type": "stream",
     "text": [
      "[1, 4, 9, 16, 25]\n"
     ]
    }
   ],
   "source": [
    "numbers = [1, 2, 3, 4, 5]\n",
    "squared = list(map(lambda x: x ** 2, numbers))\n",
    "print(squared)  # Output: [1, 4, 9, 16, 25]\n"
   ]
  },
  {
   "cell_type": "markdown",
   "metadata": {},
   "source": [
    "In this example, the lambda function lambda x: x ** 2 squares each number in the numbers list. The map() function applies this lambda to each element, resulting in a new list where every number is squared."
   ]
  },
  {
   "cell_type": "markdown",
   "metadata": {},
   "source": [
    "### Using Lambda with filter()\n",
    "The filter() function creates a new list of elements for which the given lambda function returns True:"
   ]
  },
  {
   "cell_type": "code",
   "execution_count": 15,
   "metadata": {},
   "outputs": [
    {
     "name": "stdout",
     "output_type": "stream",
     "text": [
      "[2, 4, 6, 8, 10]\n"
     ]
    }
   ],
   "source": [
    "numbers = [1, 2, 3, 4, 5, 6, 7, 8, 9, 10] \n",
    "\n",
    "even_numbers = list(filter(lambda x: x % 2 == 0, numbers)) \n",
    "\n",
    "print(even_numbers)  # Output: [2, 4, 6, 8, 10] \n"
   ]
  },
  {
   "cell_type": "markdown",
   "metadata": {},
   "source": [
    "Here, the lambda function lambda x: x % 2 == 0 checks if a number is even. The filter() function uses this lambda to keep only the even numbers from the original list, creating a new list containing only even numbers."
   ]
  },
  {
   "cell_type": "markdown",
   "metadata": {},
   "source": [
    "### Using Lambda with sorted()\n",
    "The sorted() function can use a lambda function as a key for custom sorting:"
   ]
  },
  {
   "cell_type": "code",
   "execution_count": 16,
   "metadata": {},
   "outputs": [
    {
     "name": "stdout",
     "output_type": "stream",
     "text": [
      "[('Bob', 'B', 12), ('Alice', 'A', 15), ('Charlie', 'A', 20)]\n"
     ]
    }
   ],
   "source": [
    "students = [('Alice', 'A', 15), ('Bob', 'B', 12), ('Charlie', 'A', 20)] \n",
    "\n",
    "sorted_students = sorted(students, key=lambda x: x[2]) \n",
    "\n",
    "print(sorted_students) \n",
    "\n",
    "# Output: [('Bob', 'B', 12), ('Alice', 'A', 15), ('Charlie', 'A', 20)] \n"
   ]
  },
  {
   "cell_type": "markdown",
   "metadata": {},
   "source": [
    "In this case, the lambda function lambda x: x[2] is used as the key for sorting. It tells the sorted() function to use the third element (index 2) of each tuple for comparison. As a result, the list of students is sorted based on their age (the third element in each tuple).\n",
    "\n",
    "We’ll further discuss the higher-order functions, such as the map() function, in more detail in our next article."
   ]
  },
  {
   "cell_type": "markdown",
   "metadata": {},
   "source": [
    "### Advantages and Limitations\n",
    "Lambda functions offer several advantages:\n",
    "\n",
    "- They are concise and can make code more readable for simple operations.\n",
    "\n",
    "- They’re convenient for small, throwaway functions, especially as arguments to higher-order functions.\n",
    "\n",
    "However, they also have limitations:\n",
    "\n",
    "- They can only contain expressions, not statements.\n",
    "\n",
    "- They are limited to a single expression, which can make complex operations difficult.\n",
    "\n",
    "- They can be harder to debug due to their anonymous nature."
   ]
  },
  {
   "cell_type": "markdown",
   "metadata": {},
   "source": [
    "### Best Practices\n",
    "Use lambda functions when:\n",
    "\n",
    "- You need a simple function for a short period.\n",
    "\n",
    "- You’re passing a simple function as an argument to higher-order functions.\n",
    "\n",
    "Avoid lambda functions when:\n",
    "\n",
    "- The operation is complex or requires multiple expressions.\n",
    "\n",
    "- You need to reuse the function multiple times (define a regular function instead).\n",
    "\n",
    "When lambda functions become too complex, it’s often better to use a regular function defined with def. This improves readability and makes your code easier to maintain."
   ]
  },
  {
   "cell_type": "markdown",
   "metadata": {},
   "source": [
    "### Wrapping Up\n",
    "Lambda functions are a powerful feature in Python that allow you to write more concise and functional code. They’re particularly useful for simple operations and as arguments to higher-order functions. However, it’s important to use them judiciously and switch to regular functions when the logic becomes more complex.\n",
    "\n",
    "Practice using lambda functions in your code to become more comfortable with them. Try rewriting some of your existing functions as lambda functions where appropriate, and experiment with using them in map(), filter(), and sorted().\n",
    "\n",
    "Happy coding!"
   ]
  },
  {
   "cell_type": "markdown",
   "metadata": {},
   "source": [
    "### Now Try it Out\n",
    "\n",
    "Take a look at the following code and play around with it to get a better understanding of lambda functions."
   ]
  },
  {
   "cell_type": "code",
   "execution_count": 17,
   "metadata": {},
   "outputs": [
    {
     "name": "stdout",
     "output_type": "stream",
     "text": [
      "Original numbers: [1, 2, 3, 4, 5, 6, 7, 8, 9, 10]\n",
      "Even numbers: [2, 4, 6, 8, 10]\n",
      "Squared numbers: [1, 4, 9, 16, 25, 36, 49, 64, 81, 100]\n"
     ]
    }
   ],
   "source": [
    "# List of numbers\n",
    "numbers = [1, 2, 3, 4, 5, 6, 7, 8, 9, 10]\n",
    "\n",
    "# Use a lambda function to filter out odd numbers\n",
    "evens = list(filter(lambda x: x % 2 == 0, numbers))\n",
    "\n",
    "# Use a lambda function to square each number\n",
    "squares = list(map(lambda x: x ** 2, numbers))\n",
    "\n",
    "# Print the results\n",
    "print(\"Original numbers:\", numbers)\n",
    "print(\"Even numbers:\", evens)\n",
    "print(\"Squared numbers:\", squares)\n",
    "\n",
    "# Try creating your own lambda function!\n",
    "# Uncomment and modify the line below:\n",
    "# your_result = list(map(lambda x: # Your lambda function here, numbers))\n",
    "# print(\"Your result:\", your_result)\n"
   ]
  },
  {
   "cell_type": "code",
   "execution_count": null,
   "metadata": {},
   "outputs": [],
   "source": []
  }
 ],
 "metadata": {
  "kernelspec": {
   "display_name": "Python 3",
   "language": "python",
   "name": "python3"
  },
  "language_info": {
   "codemirror_mode": {
    "name": "ipython",
    "version": 3
   },
   "file_extension": ".py",
   "mimetype": "text/x-python",
   "name": "python",
   "nbconvert_exporter": "python",
   "pygments_lexer": "ipython3",
   "version": "3.13.0"
  }
 },
 "nbformat": 4,
 "nbformat_minor": 2
}
