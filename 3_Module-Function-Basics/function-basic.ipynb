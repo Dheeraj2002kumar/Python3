{
 "cells": [
  {
   "cell_type": "markdown",
   "metadata": {},
   "source": [
    "# Function Basics"
   ]
  },
  {
   "cell_type": "markdown",
   "metadata": {},
   "source": [
    "Learn how to create functions in Python.\n",
    "\n",
    "A function in Python contains code that is executed when it is called. Functions make code reusable and repeatable. In this article, we’ll cover the following topics:\n",
    "\n",
    "- Creating a function\n",
    "- Using a function\n",
    "- Parameters\n",
    "- Arguments"
   ]
  },
  {
   "cell_type": "markdown",
   "metadata": {},
   "source": [
    "### Creating a Function\n",
    "The following example shows the structure of a function in Python:"
   ]
  },
  {
   "cell_type": "code",
   "execution_count": 1,
   "metadata": {},
   "outputs": [],
   "source": [
    "def add_three(num1, num2, num3):\n",
    "   sum_three = num1 + num2 + num3\n",
    "   return sum_three\n"
   ]
  },
  {
   "cell_type": "markdown",
   "metadata": {},
   "source": [
    "Here is a breakdown of this function:\n",
    "\n",
    "- def is the built-in keyword in Python that is used to declare functions.\n",
    "- add_three is the name of the function.\n",
    "- (num1, num2, num3) is the list of parameters needed for the function.\n",
    "- : indicates the start of the function body.\n",
    "- sum_three = num1 + num2 + num3’ is the code in the function body followed by the indentation.\n",
    "- return is the built-in keyword that exits the function and returns the output sum_three."
   ]
  },
  {
   "cell_type": "markdown",
   "metadata": {},
   "source": [
    "### Using a Function\n",
    "Functions can be used by calling the function name with parentheses. Let’s try to call the function add_three that we defined above, and assign it to the variable sum_output:"
   ]
  },
  {
   "cell_type": "code",
   "execution_count": 2,
   "metadata": {},
   "outputs": [],
   "source": [
    "sum_output = add_three(2, 4, 6)\n"
   ]
  },
  {
   "cell_type": "markdown",
   "metadata": {},
   "source": [
    "We can check the output by using the print() statement. This would return the output:"
   ]
  },
  {
   "cell_type": "code",
   "execution_count": 3,
   "metadata": {},
   "outputs": [
    {
     "name": "stdout",
     "output_type": "stream",
     "text": [
      "12\n"
     ]
    }
   ],
   "source": [
    "print(sum_output)\n"
   ]
  },
  {
   "cell_type": "markdown",
   "metadata": {},
   "source": [
    "### Parameters\n",
    "Functions can be built to include parameters. Parameters are treated as local variables within the body of the function. The function below has the parameter language."
   ]
  },
  {
   "cell_type": "code",
   "execution_count": 4,
   "metadata": {},
   "outputs": [],
   "source": [
    "def greetings(language):\n",
    "   if language == 'Spanish':\n",
    "       greeting = 'Hola'\n",
    " \n",
    "   elif language == 'English':\n",
    "       greeting = 'Hello'\n",
    " \n",
    "   elif language == 'French':\n",
    "       greeting = 'Bonjour'\n",
    " \n",
    "   print(greeting)\n"
   ]
  },
  {
   "cell_type": "markdown",
   "metadata": {},
   "source": [
    "### Arguments\n",
    "Arguments are values that can be passed into the function and used as parameters. We can call the above function with the argument French like this:"
   ]
  },
  {
   "cell_type": "code",
   "execution_count": 5,
   "metadata": {},
   "outputs": [
    {
     "name": "stdout",
     "output_type": "stream",
     "text": [
      "Bonjour\n"
     ]
    }
   ],
   "source": [
    "greetings('French')\n"
   ]
  },
  {
   "cell_type": "markdown",
   "metadata": {},
   "source": [
    "Take a look at the following code and play around with it to get a better understanding of functions, with or without parameters."
   ]
  },
  {
   "cell_type": "code",
   "execution_count": 6,
   "metadata": {},
   "outputs": [
    {
     "name": "stdout",
     "output_type": "stream",
     "text": [
      "Bonjour\n"
     ]
    }
   ],
   "source": [
    "def greetings(language):\n",
    "   if language == 'Spanish':\n",
    "       greeting = 'Hola'\n",
    " \n",
    "   elif language == 'English':\n",
    "       greeting = 'Hello'\n",
    " \n",
    "   elif language == 'French':\n",
    "       greeting = 'Bonjour'\n",
    " \n",
    "   print(greeting)\n",
    "\n",
    "greetings('French')\n"
   ]
  },
  {
   "cell_type": "markdown",
   "metadata": {},
   "source": [
    "# Recursion\n",
    "#### Learn how to use recursion in Python.\n",
    "The word recursion in Python describes the process of repeatedly calling a function within itself. In this article, we’ll cover how to use recursion with functions and why we use them."
   ]
  },
  {
   "cell_type": "markdown",
   "metadata": {},
   "source": [
    "### A Recursive Function\n",
    "Let’s take a look at what a recursive function looks like:"
   ]
  },
  {
   "cell_type": "code",
   "execution_count": 8,
   "metadata": {},
   "outputs": [],
   "source": [
    "def factorial(num):\n",
    "    if num == 1:\n",
    "        return 1\n",
    "    else:\n",
    "        return num * factorial(num - 1)\n"
   ]
  },
  {
   "cell_type": "markdown",
   "metadata": {},
   "source": [
    "The above function factorial is a recursive function because it calls itself within the function. A recursive function contains two parts: recursive step and base case."
   ]
  },
  {
   "cell_type": "markdown",
   "metadata": {},
   "source": [
    "### Recursive Step\n",
    "The line of code under the else statement is the recursive step, because it calls the function factorial()."
   ]
  },
  {
   "cell_type": "markdown",
   "metadata": {},
   "source": [
    "### Base Case\n",
    "In the above function, the recursion stops when num == 1. This case is called the base case, which should be defined in every recursive function. Having a base case helps to avoid infinite recursions. The base case can be defined with an if statement like the function above. Without the base case in the factorial function above, the function would start calling factorial(0), factorial(-1) and so on."
   ]
  },
  {
   "cell_type": "markdown",
   "metadata": {},
   "source": [
    "### How It Works\n",
    "Taking the function factorial from above, let’s do a slight modification to implement a call stack that will help to visualize the recursion. Take a look at what happens if we call factorial(5):"
   ]
  },
  {
   "cell_type": "code",
   "execution_count": 9,
   "metadata": {},
   "outputs": [
    {
     "name": "stdout",
     "output_type": "stream",
     "text": [
      "call stack:  [{'input': 5}]\n",
      "call stack:  [{'input': 4}]\n",
      "call stack:  [{'input': 3}]\n",
      "call stack:  [{'input': 2}]\n",
      "base case reached! Num is 1.\n"
     ]
    },
    {
     "data": {
      "text/plain": [
       "120"
      ]
     },
     "execution_count": 9,
     "metadata": {},
     "output_type": "execute_result"
    }
   ],
   "source": [
    "def factorial(num):\n",
    "   call_stack = []\n",
    "   if num == 1:\n",
    "       print('base case reached! Num is 1.')\n",
    "       return 1\n",
    "   else:\n",
    "       call_stack.append({'input': num})\n",
    "       print('call stack: ', call_stack)\n",
    "       return num * factorial(num-1)\n",
    " \n",
    "factorial(5)\n",
    " \n",
    "# call stack:  [{'input': 5}]\n",
    "# call stack:  [{'input': 4}]\n",
    "# call stack:  [{'input': 3}]\n",
    "# call stack:  [{'input': 2}]\n",
    "# base case reached! Num is 1.\n",
    "# 120\n"
   ]
  },
  {
   "cell_type": "markdown",
   "metadata": {},
   "source": [
    "Notice the recursion stops when the base case (num = 1) is reached, and prints the final output."
   ]
  },
  {
   "cell_type": "markdown",
   "metadata": {},
   "source": [
    "Why Recurse?\n",
    "There are a few advantages of using recursion:\n",
    "\n",
    "- It produces clear code, reducing the need to repeat code.\n",
    "- It can be used for advanced data structures problems.\n",
    "- It splits a complex task into smaller tasks.\n",
    "\n",
    "To learn more, you can check out our <a href=\"https://www.codecademy.com/learn/paths/learn-recursion-python/tracks/learn-recursion-python/modules/recursion-conceptual/cheatsheet\">cheatsheet on recursion!</a>"
   ]
  },
  {
   "cell_type": "markdown",
   "metadata": {},
   "source": [
    "Take a look at the following code and play around with it to get a better understanding of recursions."
   ]
  },
  {
   "cell_type": "code",
   "execution_count": 10,
   "metadata": {},
   "outputs": [
    {
     "name": "stdout",
     "output_type": "stream",
     "text": [
      "call stack:  [{'input': 5}]\n",
      "call stack:  [{'input': 4}]\n",
      "call stack:  [{'input': 3}]\n",
      "call stack:  [{'input': 2}]\n",
      "base case reached! Num is 1.\n"
     ]
    },
    {
     "data": {
      "text/plain": [
       "120"
      ]
     },
     "execution_count": 10,
     "metadata": {},
     "output_type": "execute_result"
    }
   ],
   "source": [
    "def factorial(num):\n",
    "   call_stack = []\n",
    "   if num == 1:\n",
    "       print('base case reached! Num is 1.')\n",
    "       return 1\n",
    "   else:\n",
    "       call_stack.append({'input': num})\n",
    "       print('call stack: ', call_stack)\n",
    "       return num * factorial(num-1)\n",
    " \n",
    "factorial(5)\n"
   ]
  },
  {
   "cell_type": "code",
   "execution_count": null,
   "metadata": {},
   "outputs": [],
   "source": []
  }
 ],
 "metadata": {
  "kernelspec": {
   "display_name": "Python 3",
   "language": "python",
   "name": "python3"
  },
  "language_info": {
   "codemirror_mode": {
    "name": "ipython",
    "version": 3
   },
   "file_extension": ".py",
   "mimetype": "text/x-python",
   "name": "python",
   "nbconvert_exporter": "python",
   "pygments_lexer": "ipython3",
   "version": "3.13.0"
  }
 },
 "nbformat": 4,
 "nbformat_minor": 2
}
