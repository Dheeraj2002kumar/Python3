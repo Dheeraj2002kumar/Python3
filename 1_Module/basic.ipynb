{
 "cells": [
  {
   "cell_type": "code",
   "execution_count": 1,
   "metadata": {},
   "outputs": [
    {
     "name": "stdout",
     "output_type": "stream",
     "text": [
      "Hellow World\n"
     ]
    }
   ],
   "source": [
    "def main():\n",
    "    print(\"Hellow World\")\n",
    "\n",
    "if __name__ == \"__main__\":\n",
    "    main()\n"
   ]
  },
  {
   "cell_type": "markdown",
   "metadata": {},
   "source": [
    "## The main() Function\n",
    "Curious why we used a main function to create the program? In Python, we frequently use the main() function to define the starting point of our program. Including the main() function allows us to import and run this program in another script.\n",
    "\n",
    "Placing the if statement in our program basically checks whether the program is being run independently as the primary module or as a library in another script."
   ]
  },
  {
   "cell_type": "markdown",
   "metadata": {},
   "source": [
    "### What Are Comments?\n",
    "In Python, comments are made with # to explain code at various points in the code. Comments are not executed as code and are used for documentation. There are two types of comments: inline comments and block comments."
   ]
  },
  {
   "cell_type": "markdown",
   "metadata": {},
   "source": [
    "### Inline Comments\n",
    "Inline comments should be used when you have a short comment that you would like to include after a line of code."
   ]
  },
  {
   "cell_type": "code",
   "execution_count": 3,
   "metadata": {},
   "outputs": [],
   "source": [
    "seconds = 5000\n",
    "minutes = seconds / 60  # calculating minutes from seconds\n"
   ]
  },
  {
   "cell_type": "markdown",
   "metadata": {},
   "source": [
    "### Block Comments\n",
    "Block comments are used when you have multiple lines of comments that you’d like to include with your code. Unlike most languages that have special syntax for multiple lines of comments, Python requires # on consecutive single lines."
   ]
  },
  {
   "cell_type": "code",
   "execution_count": 4,
   "metadata": {},
   "outputs": [],
   "source": [
    "def calculate_minutes(seconds):\n",
    "   # This function calculates the time in minutes \n",
    "   # from given seconds.\n",
    "   minutes = seconds / 60\n",
    "   return minutes\n"
   ]
  },
  {
   "cell_type": "code",
   "execution_count": 5,
   "metadata": {},
   "outputs": [
    {
     "name": "stdout",
     "output_type": "stream",
     "text": [
      "4\n",
      "25\n",
      "64\n",
      "100\n"
     ]
    }
   ],
   "source": [
    "# this function takes \n",
    "# one argument, num and \n",
    "# returns num squared\n",
    "def square(num):\n",
    "  numSquared = num * num\n",
    "  return numSquared\n",
    "\n",
    "# several test cases\n",
    "# to verify the function\n",
    "# is working as expected\n",
    "\n",
    "print(square(2)) # Prints 4\n",
    "print(square(5)) # Prints 25\n",
    "print(square(8)) # Prints 64\n",
    "print(square(10)) # Prints 100\n"
   ]
  },
  {
   "cell_type": "markdown",
   "metadata": {},
   "source": [
    "<h1>Input and Output</h1>"
   ]
  },
  {
   "cell_type": "markdown",
   "metadata": {},
   "source": [
    "### Input\n",
    "How do we ask for user input as a part of our program? Python has a built-in function called input() that takes in the user’s input. In the example below, we use the input() function to ask the user for their name:"
   ]
  },
  {
   "cell_type": "code",
   "execution_count": 6,
   "metadata": {},
   "outputs": [
    {
     "data": {
      "text/plain": [
       "'Dheeraj'"
      ]
     },
     "execution_count": 6,
     "metadata": {},
     "output_type": "execute_result"
    }
   ],
   "source": [
    "input(\"What is your name?\")\n"
   ]
  },
  {
   "cell_type": "markdown",
   "metadata": {},
   "source": [
    "You can store user input as a variable to use later. For example, we can save the user’s response to “What is your name?” in the variable name like so:"
   ]
  },
  {
   "cell_type": "code",
   "execution_count": 7,
   "metadata": {},
   "outputs": [],
   "source": [
    "name = input('What is your name?')\n"
   ]
  },
  {
   "cell_type": "markdown",
   "metadata": {},
   "source": [
    "### Output\n",
    "To display output, you can use Python’s built-in function print(). The following print() statement prints a simple sentence:"
   ]
  },
  {
   "cell_type": "code",
   "execution_count": 8,
   "metadata": {},
   "outputs": [
    {
     "name": "stdout",
     "output_type": "stream",
     "text": [
      "Very nice to meet you!\n"
     ]
    }
   ],
   "source": [
    "print('Very nice to meet you!')\n"
   ]
  },
  {
   "cell_type": "markdown",
   "metadata": {},
   "source": [
    "Let’s say we want to print the user input we stored in the variable name from our last example. You could call the variable name in your print statement:"
   ]
  },
  {
   "cell_type": "code",
   "execution_count": 9,
   "metadata": {},
   "outputs": [
    {
     "name": "stdout",
     "output_type": "stream",
     "text": [
      "Very nice to meet you,  Dheeraj !\n"
     ]
    }
   ],
   "source": [
    "print('Very nice to meet you, ', name, '!')\n"
   ]
  },
  {
   "cell_type": "markdown",
   "metadata": {},
   "source": [
    "You can also use multiple variables in the print statement:"
   ]
  },
  {
   "cell_type": "code",
   "execution_count": 10,
   "metadata": {},
   "outputs": [
    {
     "name": "stdout",
     "output_type": "stream",
     "text": [
      "Very nice to meet you! My name is Dheeraj and I am 22 years old\n"
     ]
    }
   ],
   "source": [
    "name = 'Dheeraj'\n",
    "age = '22'\n",
    " \n",
    "print('Very nice to meet you! My name is', name, 'and I am', age, 'years old') \n"
   ]
  },
  {
   "cell_type": "markdown",
   "metadata": {},
   "source": [
    "You can also use + to concatenate variables and strings in the print() statement as long as your variables are strings:"
   ]
  },
  {
   "cell_type": "code",
   "execution_count": 11,
   "metadata": {},
   "outputs": [
    {
     "name": "stdout",
     "output_type": "stream",
     "text": [
      "Very nice to meet you! My name is Dheeraj and I am 22 years old\n"
     ]
    }
   ],
   "source": [
    "print('Very nice to meet you! My name is ' + name, 'and I am ' + age + ' years old')\n"
   ]
  },
  {
   "cell_type": "markdown",
   "metadata": {},
   "source": [
    "### Formatted String Literals\n",
    "You could also use formatted string literals by starting the print argument with f and inserting a Python expression between { and }."
   ]
  },
  {
   "cell_type": "code",
   "execution_count": 12,
   "metadata": {},
   "outputs": [
    {
     "name": "stdout",
     "output_type": "stream",
     "text": [
      "Very nice to meet you, Dheeraj!\n"
     ]
    }
   ],
   "source": [
    "print(f'Very nice to meet you, {name}!')\n"
   ]
  },
  {
   "cell_type": "markdown",
   "metadata": {},
   "source": [
    "This example would print the name in all uppercase:"
   ]
  },
  {
   "cell_type": "code",
   "execution_count": 13,
   "metadata": {},
   "outputs": [
    {
     "name": "stdout",
     "output_type": "stream",
     "text": [
      "Very nice to meet you, DHEERAJ!\n"
     ]
    }
   ],
   "source": [
    "print(f'Very nice to meet you, {name.upper()}!')\n"
   ]
  },
  {
   "cell_type": "markdown",
   "metadata": {},
   "source": [
    "### str.format()\n",
    "Python also has a built-in function called str.format() that can be used with the print() function."
   ]
  },
  {
   "cell_type": "code",
   "execution_count": 14,
   "metadata": {},
   "outputs": [
    {
     "name": "stdout",
     "output_type": "stream",
     "text": [
      "Very nice to meet you, Dheeraj!\n"
     ]
    }
   ],
   "source": [
    "print('Very nice to meet you, {}!'.format(name))\n"
   ]
  },
  {
   "cell_type": "code",
   "execution_count": 15,
   "metadata": {},
   "outputs": [
    {
     "name": "stdout",
     "output_type": "stream",
     "text": [
      "Very nice to meet you, Dheeraj! from India!\n"
     ]
    }
   ],
   "source": [
    "def greet_someone():\n",
    "   name = input('What is your name?')\n",
    "   hometown = input('And where are you from?')\n",
    "   print('Very nice to meet you, {}!'.format(name), f'from {hometown}!')\n",
    " \n",
    "greet_someone()\n"
   ]
  },
  {
   "cell_type": "markdown",
   "metadata": {},
   "source": [
    "# Variables"
   ]
  },
  {
   "cell_type": "markdown",
   "metadata": {},
   "source": [
    "Variables are used to name, store and reference data. This article will cover the following topics:\n",
    "\n",
    "    - Declaring a Variable\n",
    "    - Casting\n",
    "    - Printing the Data Type of a Variable\n",
    "\n",
    "### Declaring a Variable\n",
    "You can declare a variable using the following syntax:"
   ]
  },
  {
   "cell_type": "code",
   "execution_count": 16,
   "metadata": {},
   "outputs": [],
   "source": [
    "name = 'Grace'\n"
   ]
  },
  {
   "cell_type": "markdown",
   "metadata": {},
   "source": [
    "This line of code stores the string ’Grace’ in the variable name. You can change the value stored in the variable by using the same syntax but assigning the variable to the new value."
   ]
  },
  {
   "cell_type": "code",
   "execution_count": 17,
   "metadata": {},
   "outputs": [],
   "source": [
    "name = 'Ari'\n"
   ]
  },
  {
   "cell_type": "markdown",
   "metadata": {},
   "source": [
    "Note that you can store other data types in a variable, not just strings. For example, storing a number would look like this:"
   ]
  },
  {
   "cell_type": "code",
   "execution_count": 18,
   "metadata": {},
   "outputs": [],
   "source": [
    "temperature = 97.5\n"
   ]
  },
  {
   "cell_type": "markdown",
   "metadata": {},
   "source": [
    "You can also store results of expressions as a variable:"
   ]
  },
  {
   "cell_type": "code",
   "execution_count": 19,
   "metadata": {},
   "outputs": [],
   "source": [
    "sum_of_two_numbers = 4 + 2\n"
   ]
  },
  {
   "cell_type": "markdown",
   "metadata": {},
   "source": [
    "### Casting\n",
    "You may sometimes want to specify the type of the variable using built-in data types in Python. For example, I may want to store a numerical value as a string, which can be done by using the constructor function str() like this:"
   ]
  },
  {
   "cell_type": "code",
   "execution_count": 20,
   "metadata": {},
   "outputs": [],
   "source": [
    "temperature = str(97.5)\n"
   ]
  },
  {
   "cell_type": "markdown",
   "metadata": {},
   "source": [
    "The function str() takes a value and converts it into a string. There are other functions such as int(), float() and bool() which we will cover in our next article."
   ]
  },
  {
   "cell_type": "markdown",
   "metadata": {},
   "source": [
    "### Printing the Data Type\n",
    "If you need to access the data type of a variable, you can simply use the built-in function type() to print the variable’s type."
   ]
  },
  {
   "cell_type": "code",
   "execution_count": 21,
   "metadata": {},
   "outputs": [
    {
     "data": {
      "text/plain": [
       "str"
      ]
     },
     "execution_count": 21,
     "metadata": {},
     "output_type": "execute_result"
    }
   ],
   "source": [
    "temperature = str(97.5)\n",
    "type(temperature) # prints str\n"
   ]
  },
  {
   "cell_type": "markdown",
   "metadata": {},
   "source": [
    "declaring a variable and cast it to be a float value, and print its data type."
   ]
  },
  {
   "cell_type": "code",
   "execution_count": 22,
   "metadata": {},
   "outputs": [
    {
     "name": "stdout",
     "output_type": "stream",
     "text": [
      "4\n",
      "<class 'int'>\n",
      "\n",
      "4.0\n",
      "<class 'float'>\n"
     ]
    }
   ],
   "source": [
    "int_value = 4\n",
    "print(int_value)\n",
    "print(type(int_value))\n",
    "\n",
    "print()\n",
    "\n",
    "float_value = float(int_value)\n",
    "print(float_value)\n",
    "print(type(float_value))\n"
   ]
  },
  {
   "cell_type": "code",
   "execution_count": null,
   "metadata": {},
   "outputs": [],
   "source": []
  }
 ],
 "metadata": {
  "kernelspec": {
   "display_name": "Python 3",
   "language": "python",
   "name": "python3"
  },
  "language_info": {
   "codemirror_mode": {
    "name": "ipython",
    "version": 3
   },
   "file_extension": ".py",
   "mimetype": "text/x-python",
   "name": "python",
   "nbconvert_exporter": "python",
   "pygments_lexer": "ipython3",
   "version": "3.13.0"
  }
 },
 "nbformat": 4,
 "nbformat_minor": 2
}
