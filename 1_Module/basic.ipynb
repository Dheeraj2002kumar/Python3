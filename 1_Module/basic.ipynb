{
 "cells": [
  {
   "cell_type": "code",
   "execution_count": 1,
   "metadata": {},
   "outputs": [
    {
     "name": "stdout",
     "output_type": "stream",
     "text": [
      "Hellow World\n"
     ]
    }
   ],
   "source": [
    "def main():\n",
    "    print(\"Hellow World\")\n",
    "\n",
    "if __name__ == \"__main__\":\n",
    "    main()\n"
   ]
  },
  {
   "cell_type": "markdown",
   "metadata": {},
   "source": [
    "## The main() Function\n",
    "Curious why we used a main function to create the program? In Python, we frequently use the main() function to define the starting point of our program. Including the main() function allows us to import and run this program in another script.\n",
    "\n",
    "Placing the if statement in our program basically checks whether the program is being run independently as the primary module or as a library in another script."
   ]
  },
  {
   "cell_type": "markdown",
   "metadata": {},
   "source": [
    "### What Are Comments?\n",
    "In Python, comments are made with # to explain code at various points in the code. Comments are not executed as code and are used for documentation. There are two types of comments: inline comments and block comments."
   ]
  },
  {
   "cell_type": "markdown",
   "metadata": {},
   "source": [
    "### Inline Comments\n",
    "Inline comments should be used when you have a short comment that you would like to include after a line of code."
   ]
  },
  {
   "cell_type": "code",
   "execution_count": 3,
   "metadata": {},
   "outputs": [],
   "source": [
    "seconds = 5000\n",
    "minutes = seconds / 60  # calculating minutes from seconds\n"
   ]
  },
  {
   "cell_type": "markdown",
   "metadata": {},
   "source": [
    "### Block Comments\n",
    "Block comments are used when you have multiple lines of comments that you’d like to include with your code. Unlike most languages that have special syntax for multiple lines of comments, Python requires # on consecutive single lines."
   ]
  },
  {
   "cell_type": "code",
   "execution_count": 4,
   "metadata": {},
   "outputs": [],
   "source": [
    "def calculate_minutes(seconds):\n",
    "   # This function calculates the time in minutes \n",
    "   # from given seconds.\n",
    "   minutes = seconds / 60\n",
    "   return minutes\n"
   ]
  },
  {
   "cell_type": "code",
   "execution_count": 5,
   "metadata": {},
   "outputs": [
    {
     "name": "stdout",
     "output_type": "stream",
     "text": [
      "4\n",
      "25\n",
      "64\n",
      "100\n"
     ]
    }
   ],
   "source": [
    "# this function takes \n",
    "# one argument, num and \n",
    "# returns num squared\n",
    "def square(num):\n",
    "  numSquared = num * num\n",
    "  return numSquared\n",
    "\n",
    "# several test cases\n",
    "# to verify the function\n",
    "# is working as expected\n",
    "\n",
    "print(square(2)) # Prints 4\n",
    "print(square(5)) # Prints 25\n",
    "print(square(8)) # Prints 64\n",
    "print(square(10)) # Prints 100\n"
   ]
  },
  {
   "cell_type": "markdown",
   "metadata": {},
   "source": [
    "<h1>Input and Output</h1>"
   ]
  },
  {
   "cell_type": "markdown",
   "metadata": {},
   "source": [
    "### Input\n",
    "How do we ask for user input as a part of our program? Python has a built-in function called input() that takes in the user’s input. In the example below, we use the input() function to ask the user for their name:"
   ]
  },
  {
   "cell_type": "code",
   "execution_count": 6,
   "metadata": {},
   "outputs": [
    {
     "data": {
      "text/plain": [
       "'Dheeraj'"
      ]
     },
     "execution_count": 6,
     "metadata": {},
     "output_type": "execute_result"
    }
   ],
   "source": [
    "input(\"What is your name?\")\n"
   ]
  },
  {
   "cell_type": "markdown",
   "metadata": {},
   "source": [
    "You can store user input as a variable to use later. For example, we can save the user’s response to “What is your name?” in the variable name like so:"
   ]
  },
  {
   "cell_type": "code",
   "execution_count": 7,
   "metadata": {},
   "outputs": [],
   "source": [
    "name = input('What is your name?')\n"
   ]
  },
  {
   "cell_type": "markdown",
   "metadata": {},
   "source": [
    "### Output\n",
    "To display output, you can use Python’s built-in function print(). The following print() statement prints a simple sentence:"
   ]
  },
  {
   "cell_type": "code",
   "execution_count": 8,
   "metadata": {},
   "outputs": [
    {
     "name": "stdout",
     "output_type": "stream",
     "text": [
      "Very nice to meet you!\n"
     ]
    }
   ],
   "source": [
    "print('Very nice to meet you!')\n"
   ]
  },
  {
   "cell_type": "markdown",
   "metadata": {},
   "source": [
    "Let’s say we want to print the user input we stored in the variable name from our last example. You could call the variable name in your print statement:"
   ]
  },
  {
   "cell_type": "code",
   "execution_count": 9,
   "metadata": {},
   "outputs": [
    {
     "name": "stdout",
     "output_type": "stream",
     "text": [
      "Very nice to meet you,  Dheeraj !\n"
     ]
    }
   ],
   "source": [
    "print('Very nice to meet you, ', name, '!')\n"
   ]
  },
  {
   "cell_type": "markdown",
   "metadata": {},
   "source": [
    "You can also use multiple variables in the print statement:"
   ]
  },
  {
   "cell_type": "code",
   "execution_count": 10,
   "metadata": {},
   "outputs": [
    {
     "name": "stdout",
     "output_type": "stream",
     "text": [
      "Very nice to meet you! My name is Dheeraj and I am 22 years old\n"
     ]
    }
   ],
   "source": [
    "name = 'Dheeraj'\n",
    "age = '22'\n",
    " \n",
    "print('Very nice to meet you! My name is', name, 'and I am', age, 'years old') \n"
   ]
  },
  {
   "cell_type": "markdown",
   "metadata": {},
   "source": [
    "You can also use + to concatenate variables and strings in the print() statement as long as your variables are strings:"
   ]
  },
  {
   "cell_type": "code",
   "execution_count": 11,
   "metadata": {},
   "outputs": [
    {
     "name": "stdout",
     "output_type": "stream",
     "text": [
      "Very nice to meet you! My name is Dheeraj and I am 22 years old\n"
     ]
    }
   ],
   "source": [
    "print('Very nice to meet you! My name is ' + name, 'and I am ' + age + ' years old')\n"
   ]
  },
  {
   "cell_type": "markdown",
   "metadata": {},
   "source": [
    "### Formatted String Literals\n",
    "You could also use formatted string literals by starting the print argument with f and inserting a Python expression between { and }."
   ]
  },
  {
   "cell_type": "code",
   "execution_count": 12,
   "metadata": {},
   "outputs": [
    {
     "name": "stdout",
     "output_type": "stream",
     "text": [
      "Very nice to meet you, Dheeraj!\n"
     ]
    }
   ],
   "source": [
    "print(f'Very nice to meet you, {name}!')\n"
   ]
  },
  {
   "cell_type": "markdown",
   "metadata": {},
   "source": [
    "This example would print the name in all uppercase:"
   ]
  },
  {
   "cell_type": "code",
   "execution_count": 13,
   "metadata": {},
   "outputs": [
    {
     "name": "stdout",
     "output_type": "stream",
     "text": [
      "Very nice to meet you, DHEERAJ!\n"
     ]
    }
   ],
   "source": [
    "print(f'Very nice to meet you, {name.upper()}!')\n"
   ]
  },
  {
   "cell_type": "markdown",
   "metadata": {},
   "source": [
    "### str.format()\n",
    "Python also has a built-in function called str.format() that can be used with the print() function."
   ]
  },
  {
   "cell_type": "code",
   "execution_count": 14,
   "metadata": {},
   "outputs": [
    {
     "name": "stdout",
     "output_type": "stream",
     "text": [
      "Very nice to meet you, Dheeraj!\n"
     ]
    }
   ],
   "source": [
    "print('Very nice to meet you, {}!'.format(name))\n"
   ]
  },
  {
   "cell_type": "code",
   "execution_count": 15,
   "metadata": {},
   "outputs": [
    {
     "name": "stdout",
     "output_type": "stream",
     "text": [
      "Very nice to meet you, Dheeraj! from India!\n"
     ]
    }
   ],
   "source": [
    "def greet_someone():\n",
    "   name = input('What is your name?')\n",
    "   hometown = input('And where are you from?')\n",
    "   print('Very nice to meet you, {}!'.format(name), f'from {hometown}!')\n",
    " \n",
    "greet_someone()\n"
   ]
  },
  {
   "cell_type": "markdown",
   "metadata": {},
   "source": [
    "# Variables"
   ]
  },
  {
   "cell_type": "markdown",
   "metadata": {},
   "source": [
    "Variables are used to name, store and reference data. This article will cover the following topics:\n",
    "\n",
    "    - Declaring a Variable\n",
    "    - Casting\n",
    "    - Printing the Data Type of a Variable\n",
    "\n",
    "### Declaring a Variable\n",
    "You can declare a variable using the following syntax:"
   ]
  },
  {
   "cell_type": "code",
   "execution_count": 16,
   "metadata": {},
   "outputs": [],
   "source": [
    "name = 'Grace'\n"
   ]
  },
  {
   "cell_type": "markdown",
   "metadata": {},
   "source": [
    "This line of code stores the string ’Grace’ in the variable name. You can change the value stored in the variable by using the same syntax but assigning the variable to the new value."
   ]
  },
  {
   "cell_type": "code",
   "execution_count": 17,
   "metadata": {},
   "outputs": [],
   "source": [
    "name = 'Ari'\n"
   ]
  },
  {
   "cell_type": "markdown",
   "metadata": {},
   "source": [
    "Note that you can store other data types in a variable, not just strings. For example, storing a number would look like this:"
   ]
  },
  {
   "cell_type": "code",
   "execution_count": 18,
   "metadata": {},
   "outputs": [],
   "source": [
    "temperature = 97.5\n"
   ]
  },
  {
   "cell_type": "markdown",
   "metadata": {},
   "source": [
    "You can also store results of expressions as a variable:"
   ]
  },
  {
   "cell_type": "code",
   "execution_count": 19,
   "metadata": {},
   "outputs": [],
   "source": [
    "sum_of_two_numbers = 4 + 2\n"
   ]
  },
  {
   "cell_type": "markdown",
   "metadata": {},
   "source": [
    "### Casting\n",
    "You may sometimes want to specify the type of the variable using built-in data types in Python. For example, I may want to store a numerical value as a string, which can be done by using the constructor function str() like this:"
   ]
  },
  {
   "cell_type": "code",
   "execution_count": 20,
   "metadata": {},
   "outputs": [],
   "source": [
    "temperature = str(97.5)\n"
   ]
  },
  {
   "cell_type": "markdown",
   "metadata": {},
   "source": [
    "The function str() takes a value and converts it into a string. There are other functions such as int(), float() and bool() which we will cover in our next article."
   ]
  },
  {
   "cell_type": "markdown",
   "metadata": {},
   "source": [
    "### Printing the Data Type\n",
    "If you need to access the data type of a variable, you can simply use the built-in function type() to print the variable’s type."
   ]
  },
  {
   "cell_type": "code",
   "execution_count": 21,
   "metadata": {},
   "outputs": [
    {
     "data": {
      "text/plain": [
       "str"
      ]
     },
     "execution_count": 21,
     "metadata": {},
     "output_type": "execute_result"
    }
   ],
   "source": [
    "temperature = str(97.5)\n",
    "type(temperature) # prints str\n"
   ]
  },
  {
   "cell_type": "markdown",
   "metadata": {},
   "source": [
    "declaring a variable and cast it to be a float value, and print its data type."
   ]
  },
  {
   "cell_type": "code",
   "execution_count": 22,
   "metadata": {},
   "outputs": [
    {
     "name": "stdout",
     "output_type": "stream",
     "text": [
      "4\n",
      "<class 'int'>\n",
      "\n",
      "4.0\n",
      "<class 'float'>\n"
     ]
    }
   ],
   "source": [
    "int_value = 4\n",
    "print(int_value)\n",
    "print(type(int_value))\n",
    "\n",
    "print()\n",
    "\n",
    "float_value = float(int_value)\n",
    "print(float_value)\n",
    "print(type(float_value))\n"
   ]
  },
  {
   "cell_type": "markdown",
   "metadata": {},
   "source": [
    "# Data Types"
   ]
  },
  {
   "cell_type": "markdown",
   "metadata": {},
   "source": [
    "we will cover the following basic data types in Python:\n",
    "\n",
    "- Integer\n",
    "- Float\n",
    "- Boolean\n",
    "- String"
   ]
  },
  {
   "cell_type": "markdown",
   "metadata": {},
   "source": [
    "### Integer\n",
    "ints store integer values. We can specify that the variable is a integer by using a whole number or we can use int() to cast numerical variables as an integer:"
   ]
  },
  {
   "cell_type": "code",
   "execution_count": 25,
   "metadata": {},
   "outputs": [
    {
     "name": "stdout",
     "output_type": "stream",
     "text": [
      "<class 'int'>\n"
     ]
    }
   ],
   "source": [
    "temperature = 101\n",
    "temperature = int(101.2)\n",
    "print(type(temperature))\n"
   ]
  },
  {
   "cell_type": "markdown",
   "metadata": {},
   "source": [
    "### Float\n",
    "floats store numerical values with decimal points. float() is the built-in function that stores numerical values with their decimal points."
   ]
  },
  {
   "cell_type": "code",
   "execution_count": 27,
   "metadata": {},
   "outputs": [
    {
     "name": "stdout",
     "output_type": "stream",
     "text": [
      "<class 'float'>\n"
     ]
    }
   ],
   "source": [
    "temperature = 101.3\n",
    "temperature = float(101.3)\n",
    "print(type(temperature))\n"
   ]
  },
  {
   "cell_type": "markdown",
   "metadata": {},
   "source": [
    "### Boolean\n",
    "boolean variables hold two values, True or False. We can use the words True or False to assign it to our variable or use bool()."
   ]
  },
  {
   "cell_type": "code",
   "execution_count": 28,
   "metadata": {},
   "outputs": [
    {
     "name": "stdout",
     "output_type": "stream",
     "text": [
      "<class 'bool'>\n"
     ]
    }
   ],
   "source": [
    "raining = True\n",
    "raining = bool('True')\n",
    "print(type(raining))\n",
    "\n"
   ]
  },
  {
   "cell_type": "markdown",
   "metadata": {},
   "source": [
    "The bool() function will always return True unless the variable is empty, 0, None or False."
   ]
  },
  {
   "cell_type": "markdown",
   "metadata": {},
   "source": [
    "### String\n",
    "string variables hold characters and can be created by using single quotes ’ or double quotes ”. You can also use the built-in function str() to specify that you are storing a string."
   ]
  },
  {
   "cell_type": "code",
   "execution_count": 29,
   "metadata": {},
   "outputs": [
    {
     "name": "stdout",
     "output_type": "stream",
     "text": [
      "<class 'str'>\n"
     ]
    }
   ],
   "source": [
    "temperature = '97.2'\n",
    "temperature = str(97.2)\n",
    "print(type(temperature))\n"
   ]
  },
  {
   "cell_type": "markdown",
   "metadata": {},
   "source": [
    "printing the variable temperature in different data types using the built-in function type(). "
   ]
  },
  {
   "cell_type": "code",
   "execution_count": 30,
   "metadata": {},
   "outputs": [
    {
     "name": "stdout",
     "output_type": "stream",
     "text": [
      "<class 'int'>\n",
      "<class 'float'>\n",
      "<class 'bool'>\n",
      "<class 'str'>\n"
     ]
    }
   ],
   "source": [
    "temperature = int(101.2)\n",
    "print(type(temperature))\n",
    " \n",
    "temperature = float(101.2)\n",
    "print(type(temperature))\n",
    " \n",
    "temperature = bool(101.2)\n",
    "print(type(temperature))\n",
    " \n",
    "temperature = str(101.2)\n",
    "print(type(temperature))\n"
   ]
  },
  {
   "cell_type": "markdown",
   "metadata": {},
   "source": [
    "# Operators"
   ]
  },
  {
   "cell_type": "markdown",
   "metadata": {},
   "source": [
    "Operators are used to perform operations on variables in Python. We will cover the following operators in this article:\n",
    "\n",
    "- Arithmetic Operators\n",
    "- Assignment Operators\n",
    "- Comparison Operators\n",
    "- Logical Operators"
   ]
  },
  {
   "cell_type": "markdown",
   "metadata": {},
   "source": [
    "### Arithmetic Operators\n",
    "Arithmetic operators are used to perform mathematical operations on numerical variables such as int or float. See the table for the common arithmetic operators used in Python:\n",
    "\n"
   ]
  },
  {
   "cell_type": "code",
   "execution_count": 31,
   "metadata": {},
   "outputs": [],
   "source": [
    "# |   Operator  | Name of Operation\t|   Example\t|   Description\n",
    "# |   +\t      | Addition\t        |   x + y\t|   x plus y\n",
    "# |   -\t      | Subtraction     \t|   x - y\t|   x minus y\n",
    "# |   *\t      | Multiplication  \t|   x * y\t|   x multiplied by y\n",
    "# |   **\t  | Exponentiation\t    |   x ** y\t|   x raised to the power of y\n",
    "# |   /\t      | Division\t        |   x / y\t|   x divided by y\n",
    "# |   //\t  | Floor Division\t|   x // y\t|   x divided by y, returning integer\n",
    "# |   %\t      | Modulo\t            |   x % y\t|   The remainder of x divided by y\n"
   ]
  },
  {
   "cell_type": "code",
   "execution_count": 32,
   "metadata": {},
   "outputs": [
    {
     "data": {
      "text/plain": [
       "1"
      ]
     },
     "execution_count": 32,
     "metadata": {},
     "output_type": "execute_result"
    }
   ],
   "source": [
    "x = 4\n",
    "y = 3\n",
    " \n",
    "x + y  # returns 7\n",
    "x - y  # returns 1\n",
    "x * y  # returns 12\n",
    "x ** y # returns 64\n",
    "x / y  # returns 1.333\n",
    "x // y # returns 1\n",
    "x % y # returns 1\n"
   ]
  },
  {
   "cell_type": "markdown",
   "metadata": {},
   "source": [
    "### Assignment Operators\n",
    "There are two types of assignment operators: the assignment operator and compound assignment operators. The assignment operator, =, is used to assign values to variables. Compound assignment operators are used to perform arithmetic operations on a variable and reassign its value at the same time. Here are the common assignment operators:"
   ]
  },
  {
   "cell_type": "code",
   "execution_count": 33,
   "metadata": {},
   "outputs": [],
   "source": [
    "# Operator\tExample\tDescription\n",
    "# =\tx = 4\tAssign 4 to x\n",
    "# +=\tx += 4\tAdd 4 to existing value of x\n",
    "# -=\tx -= 4\tSubtract 4 from existing value of x\n",
    "# *=\tx *= 4\tMultiply existing value by 4\n",
    "# /=\tx /= 4\tDivide existing value by 4\n",
    "# %=\tx %= 4\tModulo existing value by 4\n"
   ]
  },
  {
   "cell_type": "markdown",
   "metadata": {},
   "source": [
    "these operators below, with x = 4:"
   ]
  },
  {
   "cell_type": "code",
   "execution_count": 34,
   "metadata": {},
   "outputs": [],
   "source": [
    "x += 4  # x is 8\n",
    "x -= 4  # x is 0\n",
    "x *= 4  # x is 16\n",
    "x /= 4  # x is 1.0\n",
    "x %= 4  # x is 0\n"
   ]
  },
  {
   "cell_type": "markdown",
   "metadata": {},
   "source": [
    "### Comparison Operators\n",
    "Comparison operators are used to compare two variables. The result from these operators is a bool (True or False). Here are the comparison operators:"
   ]
  },
  {
   "cell_type": "code",
   "execution_count": 37,
   "metadata": {},
   "outputs": [],
   "source": [
    "# Operator\tDescription\tExample\n",
    "# ==\tEqual to\tx == y\n",
    "# !=\tNot equal to\tx != y\n",
    "# >\tGreater than\tx > y\n",
    "# <\tLess than\tx < y\n",
    "# >=\tGreater than or equal to\tx >= y\n",
    "# <=\tLess than or equal to     x <= y\n"
   ]
  },
  {
   "cell_type": "code",
   "execution_count": 35,
   "metadata": {},
   "outputs": [
    {
     "data": {
      "text/plain": [
       "False"
      ]
     },
     "execution_count": 35,
     "metadata": {},
     "output_type": "execute_result"
    }
   ],
   "source": [
    "x = 4\n",
    "y = 3\n",
    " \n",
    "x == y # returns False\n",
    "x != y # returns True\n",
    "x > y  # returns True\n",
    "x < y  # returns False\n",
    "x >= y # returns True\n",
    "x <= y # returns False\n"
   ]
  },
  {
   "cell_type": "markdown",
   "metadata": {},
   "source": [
    "### Logical Operators\n",
    "Logical operators are used to combine and evaluate multiple conditions. The result is a bool (True or False)."
   ]
  },
  {
   "cell_type": "code",
   "execution_count": 38,
   "metadata": {},
   "outputs": [],
   "source": [
    "# Operator\tDescription\tExample\n",
    "# and\tIf both statements are true, returns True\tx > 2 and y > 1\n",
    "# or\tIf one of the statements are true, returns True\tx > 3 or y > 5\n",
    "# not\tIf used, returns the reverse of the actual result\tnot(x > 10 and y > 5)\n"
   ]
  },
  {
   "cell_type": "code",
   "execution_count": 39,
   "metadata": {},
   "outputs": [
    {
     "data": {
      "text/plain": [
       "False"
      ]
     },
     "execution_count": 39,
     "metadata": {},
     "output_type": "execute_result"
    }
   ],
   "source": [
    "x = 4\n",
    "y = 3\n",
    " \n",
    "x > 2 and y > 1      # returns True\n",
    "x > 5 or y <= 3      # returns True\n",
    "not(x > 2 and y > 1) # returns False\n"
   ]
  },
  {
   "cell_type": "code",
   "execution_count": 40,
   "metadata": {},
   "outputs": [
    {
     "name": "stdout",
     "output_type": "stream",
     "text": [
      "arithmetic operator (x + y):  7\n",
      "comparison operator (x >= y):  True\n",
      "logical operator (x == y and x > y):  False\n"
     ]
    }
   ],
   "source": [
    "x = 5\n",
    "y = 2\n",
    " \n",
    "print('arithmetic operator (x + y): ', x + y)\n",
    "print('comparison operator (x >= y): ', x >= y)\n",
    "print('logical operator (x == y and x > y): ', x == y and x > y)\n"
   ]
  },
  {
   "cell_type": "code",
   "execution_count": null,
   "metadata": {},
   "outputs": [],
   "source": []
  }
 ],
 "metadata": {
  "kernelspec": {
   "display_name": "Python 3",
   "language": "python",
   "name": "python3"
  },
  "language_info": {
   "codemirror_mode": {
    "name": "ipython",
    "version": 3
   },
   "file_extension": ".py",
   "mimetype": "text/x-python",
   "name": "python",
   "nbconvert_exporter": "python",
   "pygments_lexer": "ipython3",
   "version": "3.13.0"
  }
 },
 "nbformat": 4,
 "nbformat_minor": 2
}
