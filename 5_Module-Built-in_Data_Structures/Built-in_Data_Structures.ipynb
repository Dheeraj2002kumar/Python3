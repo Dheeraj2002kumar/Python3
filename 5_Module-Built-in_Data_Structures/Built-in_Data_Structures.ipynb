{
 "cells": [
  {
   "cell_type": "markdown",
   "metadata": {},
   "source": [
    "# Built-in Data Structures"
   ]
  },
  {
   "cell_type": "markdown",
   "metadata": {},
   "source": [
    "## String Methods\n",
    "<b>Learn about strings in Python.</b>\n",
    "\n",
    "In Python, strings are defined with single quotes '' or double quotes \"\" and can contain a combination of letters, numbers, symbols and spaces. In this article, we’ll cover the basic string indexing and slicing, as well as the commonly used built-in methods that are used to manipulate strings."
   ]
  },
  {
   "cell_type": "markdown",
   "metadata": {},
   "source": [
    "### String Indexing and Slicing\n",
    "As mentioned above, strings can contain letters, numbers, symbols and spaces. Strings can be thought of as a list of characters combining any or all of these. Therefore, we can use indexing to access a certain character of the string. Take a look at the following string:"
   ]
  },
  {
   "cell_type": "code",
   "execution_count": 1,
   "metadata": {},
   "outputs": [],
   "source": [
    "intro = \"My name is Jeff!\"\n"
   ]
  },
  {
   "cell_type": "markdown",
   "metadata": {},
   "source": [
    "In this example, if we want to access the first character, we can use index 0 (remember that Python is a zero-index language!). We write the name of the variable followed by brackets [] that contains the index to print the character. This code would give us the first letter, 'M'."
   ]
  },
  {
   "cell_type": "code",
   "execution_count": 2,
   "metadata": {},
   "outputs": [
    {
     "name": "stdout",
     "output_type": "stream",
     "text": [
      "M\n"
     ]
    }
   ],
   "source": [
    "print(intro[0]) # prints M\n"
   ]
  },
  {
   "cell_type": "markdown",
   "metadata": {},
   "source": [
    "We can also apply slicing, using a range of indices to access multiple characters. Let’s say we want the first 2 letters. The brackets should contain the first index (0) as well as the end index (2), separated by : (remember, the end index is non-inclusive in Python!). This code would print the word 'My':"
   ]
  },
  {
   "cell_type": "code",
   "execution_count": 3,
   "metadata": {},
   "outputs": [
    {
     "data": {
      "text/plain": [
       "'My'"
      ]
     },
     "execution_count": 3,
     "metadata": {},
     "output_type": "execute_result"
    }
   ],
   "source": [
    "intro[0:2]\n"
   ]
  },
  {
   "cell_type": "markdown",
   "metadata": {},
   "source": [
    "We can also use negative indices to print the letters from the back. This code would print the word 'Jeff'."
   ]
  },
  {
   "cell_type": "code",
   "execution_count": 4,
   "metadata": {},
   "outputs": [
    {
     "data": {
      "text/plain": [
       "'Jeff'"
      ]
     },
     "execution_count": 4,
     "metadata": {},
     "output_type": "execute_result"
    }
   ],
   "source": [
    "intro[11:15] # prints Jeff\n"
   ]
  },
  {
   "cell_type": "markdown",
   "metadata": {},
   "source": [
    "## Common Built-in Functions"
   ]
  },
  {
   "cell_type": "markdown",
   "metadata": {},
   "source": [
    "### len()\n",
    "The length of a string can be measured using the built-in function len(). It takes the string as an argument to count the characters in the string. Note that whitespaces count as a character."
   ]
  },
  {
   "cell_type": "code",
   "execution_count": 5,
   "metadata": {},
   "outputs": [
    {
     "data": {
      "text/plain": [
       "9"
      ]
     },
     "execution_count": 5,
     "metadata": {},
     "output_type": "execute_result"
    }
   ],
   "source": [
    "intro1 = \"My name is Jeff!\"\n",
    "intro2 = \"Hello all!\"\n",
    "intro3 = \"Hi there.\"\n",
    "len(intro1) # evaluates 16\n",
    "len(intro2) # evaluates 10\n",
    "len(intro3) # evaluates 9\n"
   ]
  },
  {
   "cell_type": "markdown",
   "metadata": {},
   "source": [
    "### str.lower(), str.upper(), str.title()\n",
    "The built-in function .lower() takes a string and converts all letters in the string to lowercase. Similarly, the built-in function .upper() converts all letters in the string to uppercase."
   ]
  },
  {
   "cell_type": "code",
   "execution_count": 6,
   "metadata": {},
   "outputs": [
    {
     "name": "stdout",
     "output_type": "stream",
     "text": [
      "my name is jeff!\n",
      "MY NAME IS JEFF!\n",
      "My Name Is Jeff!\n"
     ]
    }
   ],
   "source": [
    "intro = \"My name is Jeff!\"\n",
    "print(intro.lower()) # prints 'my name is jeff!'\n",
    "print(intro.upper()) # prints 'MY NAME IS JEFF!'\n",
    "print(intro.title()) # prints 'My Name Is Jeff!'\n"
   ]
  },
  {
   "cell_type": "markdown",
   "metadata": {},
   "source": [
    "### str.split()\n",
    "The built-in function .split() takes a string and splits the string into a list of strings. By default, the function splits by whitespace but the separator can be specified as an argument."
   ]
  },
  {
   "cell_type": "code",
   "execution_count": 7,
   "metadata": {},
   "outputs": [
    {
     "name": "stdout",
     "output_type": "stream",
     "text": [
      "['My', 'name', 'is', 'Jeff!']\n",
      "['My ', ' is Jeff!']\n",
      "['My name is Jeff', '']\n"
     ]
    }
   ],
   "source": [
    "intro = \"My name is Jeff!\"\n",
    "print(intro.split()) # prints ['My', 'name', 'is', 'Jeff!']\n",
    "print(intro.split('name')) # prints ['My ', ' is Jeff!']\n",
    "print(intro.split('!')) # prints ['My name is Jeff', '']\n"
   ]
  },
  {
   "cell_type": "markdown",
   "metadata": {},
   "source": [
    "For additional functions, feel free to check out the<a href=\"https://www.codecademy.com/learn/paths/learn-python-3/tracks/learn-python-3/modules/learn-python3-strings/cheatsheet\"> Strings Cheatsheet </a> from our Learn Python 3 Course!"
   ]
  },
  {
   "cell_type": "markdown",
   "metadata": {},
   "source": [
    "### Try It Out\n",
    "#### Coding question\n",
    "Questions\n",
    "Take a look at the following code and play around with it to get a better understanding of strings and different built-in functions for strings."
   ]
  },
  {
   "cell_type": "code",
   "execution_count": 8,
   "metadata": {},
   "outputs": [
    {
     "name": "stdout",
     "output_type": "stream",
     "text": [
      "M\n",
      "My\n",
      "Jeff\n",
      "16\n",
      "['My', 'name', 'is', 'Jeff!']\n",
      "['My ', ' is Jeff!']\n",
      "['My name is Jeff', '']\n"
     ]
    }
   ],
   "source": [
    "intro = \"My name is Jeff!\"\n",
    "\n",
    "print(intro[0]) \n",
    "print(intro[0:2])\n",
    "print(intro[-5:-1])\n",
    "\n",
    "print(len(intro)) \n",
    "\n",
    "intro.lower()\n",
    "intro.upper()\n",
    "intro.title()\n",
    "\n",
    "print(intro.split())\n",
    "print(intro.split('name')) \n",
    "print(intro.split('!'))\n"
   ]
  },
  {
   "cell_type": "markdown",
   "metadata": {},
   "source": [
    "# Lists\n",
    "<b> Learn about lists in Python.</b>\n",
    "\n",
    "In Python, lists are ordered collections of items that can contain different data types such as strings, integers, float values and many more.\n",
    "\n",
    "In this article, we’ll cover features of lists, indexing, and common built-in functions that allow us to manipulate lists."
   ]
  },
  {
   "cell_type": "markdown",
   "metadata": {},
   "source": [
    "### Lists\n",
    "A list can be created with brackets [] with items separated by commas ,. As noted above, a list can hold different data types, including strings, integers, float values and more.\n",
    "\n",
    "Let’s take a look at the following list that contains strings, integers, floats and a list:"
   ]
  },
  {
   "cell_type": "code",
   "execution_count": 9,
   "metadata": {},
   "outputs": [],
   "source": [
    "lst = ['abc', 123, 'def', 10.5, 62, ['g', 'h', 'i']]\n"
   ]
  },
  {
   "cell_type": "markdown",
   "metadata": {},
   "source": [
    "This list has 6 items. We can see that we have 6 items separated by a comma. It starts with the string abc and ends with a list ['g', 'h', 'i'], which counts as one item."
   ]
  },
  {
   "cell_type": "markdown",
   "metadata": {},
   "source": [
    "### List Indexing and Slicing\n",
    "Items in a list can be accessed with its index, otherwise known as its position in the list. Take a look at the following list:"
   ]
  },
  {
   "cell_type": "code",
   "execution_count": 10,
   "metadata": {},
   "outputs": [],
   "source": [
    "lst = ['abc', 123, 'def', 10.5, 62, ['g', 'h', 'i']]\n"
   ]
  },
  {
   "cell_type": "markdown",
   "metadata": {},
   "source": [
    "Indices can be used to access specific items of this list. For example, if we want to access the first item, we can use index 0 (remember that Python is a zero-index language!). We write the name of the list followed by brackets [] that contains the index to access the item. This code would contain the first item, 'abc'."
   ]
  },
  {
   "cell_type": "code",
   "execution_count": 11,
   "metadata": {},
   "outputs": [
    {
     "name": "stdout",
     "output_type": "stream",
     "text": [
      "abc\n"
     ]
    }
   ],
   "source": [
    "print(lst[0]) # prints abc\n"
   ]
  },
  {
   "cell_type": "markdown",
   "metadata": {},
   "source": [
    "We can also apply slicing, using a range of indices to access multiple items. The brackets should contain the first index as well as the index of the end of the item, separated by :. This code would print the last two elements on the list:"
   ]
  },
  {
   "cell_type": "code",
   "execution_count": 12,
   "metadata": {},
   "outputs": [
    {
     "name": "stdout",
     "output_type": "stream",
     "text": [
      "[62, ['g', 'h', 'i']]\n"
     ]
    }
   ],
   "source": [
    "print(lst[4:6]) # prints [62, ['g', 'h', 'i']]\n"
   ]
  },
  {
   "cell_type": "markdown",
   "metadata": {},
   "source": [
    "## Common Built-in Methods"
   ]
  },
  {
   "cell_type": "markdown",
   "metadata": {},
   "source": [
    "### len()\n",
    "The length of a list can be measured using the built-in function len(). It takes the list as an argument to count the items in the list."
   ]
  },
  {
   "cell_type": "code",
   "execution_count": 13,
   "metadata": {},
   "outputs": [
    {
     "name": "stdout",
     "output_type": "stream",
     "text": [
      "6\n",
      "5\n",
      "2\n"
     ]
    }
   ],
   "source": [
    "lst1 = ['abc', 123, 'def', 10.5, 62, ['g', 'h', 'i']]\n",
    "lst2 = [0, 1, 2, 3, 4]\n",
    "lst3 = ['I love sushi so much!', 'I also love curry!']\n",
    " \n",
    "print(len(lst1)) # prints 6\n",
    "print(len(lst2)) # prints 5\n",
    "print(len(lst3)) # prints 2\n"
   ]
  },
  {
   "cell_type": "markdown",
   "metadata": {},
   "source": [
    "### .append()\n",
    "The built-in method .append() takes an item as an argument to add the item to the end of a list."
   ]
  },
  {
   "cell_type": "code",
   "execution_count": 14,
   "metadata": {},
   "outputs": [],
   "source": [
    "lst = ['abc', 123, 'def', 10.5, 62, ['g', 'h', 'i']]\n",
    "lst.append(99) # appends 99 at the end of the list\n"
   ]
  },
  {
   "cell_type": "markdown",
   "metadata": {},
   "source": [
    "### .remove()\n",
    "The built-in method .remove() removes an item that’s passed as the argument."
   ]
  },
  {
   "cell_type": "code",
   "execution_count": 15,
   "metadata": {},
   "outputs": [],
   "source": [
    "lst = ['abc', 123, 'def', 10.5, 62, ['g', 'h', 'i']]\n",
    "lst.remove(62) # removes 62 from the list\n"
   ]
  },
  {
   "cell_type": "markdown",
   "metadata": {},
   "source": [
    "### .pop()\n",
    "The built-in method `.pop()’ takes an index and removes an item at that given index and returns that item. If no index is provided, it takes the last item from the list."
   ]
  },
  {
   "cell_type": "code",
   "execution_count": 16,
   "metadata": {},
   "outputs": [
    {
     "data": {
      "text/plain": [
       "'abc'"
      ]
     },
     "execution_count": 16,
     "metadata": {},
     "output_type": "execute_result"
    }
   ],
   "source": [
    "lst = ['abc', 123, 'def', 10.5, 62, ['g', 'h', 'i']]\n",
    "lst.pop() # removes ['g', 'h', 'i']\n",
    "lst.pop(0) # removes 'abc'\n"
   ]
  },
  {
   "cell_type": "markdown",
   "metadata": {},
   "source": [
    "For additional methods, feel free to check out the <a href=\"https://www.codecademy.com/learn/paths/learn-python-3/tracks/learn-python-3/modules/learn-python3-lists/cheatsheet\"> Lists Cheatsheet </a> from our Learn Python 3 Course!\n",
    "\n"
   ]
  },
  {
   "cell_type": "markdown",
   "metadata": {},
   "source": [
    "### Try It Out!\n",
    "#### Coding question\n",
    "Questions\n",
    "Take a look at the following code and play around with it to get a better understanding of lists and different built-in methods."
   ]
  },
  {
   "cell_type": "code",
   "execution_count": 17,
   "metadata": {},
   "outputs": [
    {
     "name": "stdout",
     "output_type": "stream",
     "text": [
      "['abc', 123, 'def', 10.5, 62, ['g', 'h', 'i']]\n",
      "abc\n",
      "[62, ['g', 'h', 'i']]\n",
      "6\n",
      "['abc', 123, 'def', 10.5, 62, ['g', 'h', 'i'], 99]\n",
      "['abc', 123, 'def', 10.5, ['g', 'h', 'i'], 99]\n",
      "['abc', 123, 'def', 10.5, ['g', 'h', 'i']]\n",
      "[123, 'def', 10.5, ['g', 'h', 'i']]\n"
     ]
    }
   ],
   "source": [
    "lst = ['abc', 123, 'def', 10.5, 62, ['g', 'h', 'i']]\n",
    "print(lst)\n",
    "\n",
    "print(lst[0]) \n",
    "print(lst[4:6])\n",
    "\n",
    "print(len(lst))\n",
    "\n",
    "lst.append(99) \n",
    "print(lst)\n",
    "\n",
    "lst.remove(62) \n",
    "print(lst)\n",
    "\n",
    "lst.pop()\n",
    "print(lst)\n",
    "\n",
    "lst.pop(0) \n",
    "print(lst)\n"
   ]
  },
  {
   "cell_type": "markdown",
   "metadata": {},
   "source": [
    "# Tuples"
   ]
  },
  {
   "cell_type": "markdown",
   "metadata": {},
   "source": [
    "<b>Learn about tuples in Python.</b>\n",
    "\n",
    "Tuples are one of the built-in data structures in Python. Just like lists, tuples can hold a sequence of items and have a few key advantages:\n",
    "\n",
    "- Tuples are more memory efficient than lists\n",
    "- Tuples have a slightly higher time efficiency than lists\n",
    "\n",
    "This is mostly because tuples are immutable, meaning we can’t modify a tuple’s elements after creating one, and do not require an extra memory block like lists. Because of this, tuples are great to work with if you are working with data that won’t need to be changed in your code.\n",
    "\n",
    "In this article, we’ll cover features of tuples, indexing, and common built-in methods and functions that can be used with tuples."
   ]
  },
  {
   "cell_type": "markdown",
   "metadata": {},
   "source": [
    "### Tuples\n",
    "In Python, tuples are defined with parentheses () with comma-separated values. Just like lists, tuples are sequences and can hold objects of different data types.\n",
    "\n",
    "This tuple has 4 items. We can see that we have 4 items separated by commas:"
   ]
  },
  {
   "cell_type": "code",
   "execution_count": 18,
   "metadata": {},
   "outputs": [],
   "source": [
    "my_tuple = ('abc', 123, 'def', 456)\n"
   ]
  },
  {
   "cell_type": "markdown",
   "metadata": {},
   "source": [
    "Tuples are capable of holding one item as long as the item is followed by a comma:"
   ]
  },
  {
   "cell_type": "code",
   "execution_count": 19,
   "metadata": {},
   "outputs": [],
   "source": [
    "my_tuple = ('abc',)\n"
   ]
  },
  {
   "cell_type": "markdown",
   "metadata": {},
   "source": [
    "### Tuple Indexing and Slicing\n",
    "Items in a tuple can be accessed with their index, otherwise known as their position in the tuple. Take a look at the following tuple:"
   ]
  },
  {
   "cell_type": "code",
   "execution_count": 20,
   "metadata": {},
   "outputs": [],
   "source": [
    "my_tuple = ('abc', 123, 'def', 456, 789, 'ghi')\n"
   ]
  },
  {
   "cell_type": "markdown",
   "metadata": {},
   "source": [
    "Indices can be used to access specific items of this tuple. For example, if we want to access the first item, we can use index 0 (remember that Python is a zero-index language!). We write the name of the tuple followed by brackets [] that contains the index to access the item. This code would print the first item, ’abc’."
   ]
  },
  {
   "cell_type": "code",
   "execution_count": 21,
   "metadata": {},
   "outputs": [
    {
     "name": "stdout",
     "output_type": "stream",
     "text": [
      "abc\n"
     ]
    }
   ],
   "source": [
    "print(my_tuple[0]) # prints abc\n"
   ]
  },
  {
   "cell_type": "markdown",
   "metadata": {},
   "source": [
    "We can also apply slicing, using a range of indices to access multiple items just like in a list. The brackets should contain the first index as well as the index of the end of the item, separated by :. This code would print the items at positions 3 and 4:\n",
    "\n"
   ]
  },
  {
   "cell_type": "code",
   "execution_count": 22,
   "metadata": {},
   "outputs": [
    {
     "name": "stdout",
     "output_type": "stream",
     "text": [
      "(456, 789)\n"
     ]
    }
   ],
   "source": [
    "print(my_tuple[3:5]) # prints (456, 789)\n"
   ]
  },
  {
   "cell_type": "markdown",
   "metadata": {},
   "source": [
    "### Common Built-in Functions\n",
    "In contrast to lists, tuples have a limited number of built-in functions as they are immutable. We’ll take a look at a few built-in functions below:\n",
    "\n",
    "#### len()\n",
    "The length of a tuple can be measured using the built-in function len(). It takes the tuple as an argument to count the items in the tuple."
   ]
  },
  {
   "cell_type": "code",
   "execution_count": 23,
   "metadata": {},
   "outputs": [
    {
     "name": "stdout",
     "output_type": "stream",
     "text": [
      "6\n"
     ]
    }
   ],
   "source": [
    "my_tuple = ('abc', 123, 'def', 456, 789, 'ghi')\n",
    "print(len(my_tuple)) # prints 6\n"
   ]
  },
  {
   "cell_type": "markdown",
   "metadata": {},
   "source": [
    "#### max()\n",
    "The built-in function max() returns the tuple’s maximum value. Note that this function requires all of the values to be of the same data type. If used with numerical values, the function returns the maximum value. If used with string values, the function returns the value at the tuple’s maximum index as if it was sorted alphabetically. The string closer to the letter “Z” in the alphabet would have a higher index."
   ]
  },
  {
   "cell_type": "code",
   "execution_count": 24,
   "metadata": {},
   "outputs": [
    {
     "ename": "TypeError",
     "evalue": "'>' not supported between instances of 'int' and 'str'",
     "output_type": "error",
     "traceback": [
      "\u001b[1;31m---------------------------------------------------------------------------\u001b[0m",
      "\u001b[1;31mTypeError\u001b[0m                                 Traceback (most recent call last)",
      "Cell \u001b[1;32mIn[24], line 8\u001b[0m\n\u001b[0;32m      5\u001b[0m \u001b[38;5;28mmax\u001b[39m(my_tuple) \u001b[38;5;66;03m# returns \"red\"\u001b[39;00m\n\u001b[0;32m      7\u001b[0m my_tuple \u001b[38;5;241m=\u001b[39m (\u001b[38;5;124m'\u001b[39m\u001b[38;5;124mabc\u001b[39m\u001b[38;5;124m'\u001b[39m, \u001b[38;5;241m234\u001b[39m, \u001b[38;5;241m567\u001b[39m, \u001b[38;5;124m'\u001b[39m\u001b[38;5;124mdef\u001b[39m\u001b[38;5;124m'\u001b[39m)\n\u001b[1;32m----> 8\u001b[0m \u001b[38;5;28;43mmax\u001b[39;49m\u001b[43m(\u001b[49m\u001b[43mmy_tuple\u001b[49m\u001b[43m)\u001b[49m \u001b[38;5;66;03m# throws an error!\u001b[39;00m\n",
      "\u001b[1;31mTypeError\u001b[0m: '>' not supported between instances of 'int' and 'str'"
     ]
    }
   ],
   "source": [
    "my_tuple = (65, 2, 88, 101, 25)\n",
    "max(my_tuple) # returns 101\n",
    " \n",
    "my_tuple = ('orange', 'blue', 'red', 'green')\n",
    "max(my_tuple) # returns \"red\"\n",
    " \n",
    "my_tuple = ('abc', 234, 567, 'def')\n",
    "max(my_tuple) # throws an error!\n"
   ]
  },
  {
   "cell_type": "markdown",
   "metadata": {},
   "source": [
    "#### min()\n",
    "The built-in function min() returns the tuple’s minimum value. Similar to the max() function, the min() function requires all of the values to be of the same data type. If used with numerical values, the function returns the minimum value. If used with string values, the function returns the value at the tuple’s minimum index as if it was sorted alphabetically. The string closer to the letter “A” in the alphabet would have a lower index."
   ]
  },
  {
   "cell_type": "code",
   "execution_count": 25,
   "metadata": {},
   "outputs": [
    {
     "ename": "TypeError",
     "evalue": "'<' not supported between instances of 'int' and 'str'",
     "output_type": "error",
     "traceback": [
      "\u001b[1;31m---------------------------------------------------------------------------\u001b[0m",
      "\u001b[1;31mTypeError\u001b[0m                                 Traceback (most recent call last)",
      "Cell \u001b[1;32mIn[25], line 6\u001b[0m\n\u001b[0;32m      4\u001b[0m \u001b[38;5;28mmin\u001b[39m(my_tuple) \u001b[38;5;66;03m# returns \"blue\"\u001b[39;00m\n\u001b[0;32m      5\u001b[0m my_tuple \u001b[38;5;241m=\u001b[39m (\u001b[38;5;124m'\u001b[39m\u001b[38;5;124mabc\u001b[39m\u001b[38;5;124m'\u001b[39m, \u001b[38;5;241m234\u001b[39m, \u001b[38;5;241m567\u001b[39m, \u001b[38;5;124m'\u001b[39m\u001b[38;5;124mdef\u001b[39m\u001b[38;5;124m'\u001b[39m)\n\u001b[1;32m----> 6\u001b[0m \u001b[38;5;28;43mmin\u001b[39;49m\u001b[43m(\u001b[49m\u001b[43mmy_tuple\u001b[49m\u001b[43m)\u001b[49m \u001b[38;5;66;03m# throws an error!\u001b[39;00m\n",
      "\u001b[1;31mTypeError\u001b[0m: '<' not supported between instances of 'int' and 'str'"
     ]
    }
   ],
   "source": [
    "my_tuple = (65, 2, 88, 101, 25)\n",
    "min(my_tuple) # returns 2\n",
    "my_tuple = ('orange', 'blue', 'red', 'green')\n",
    "min(my_tuple) # returns \"blue\"\n",
    "my_tuple = ('abc', 234, 567, 'def')\n",
    "min(my_tuple) # throws an error!\n"
   ]
  },
  {
   "cell_type": "markdown",
   "metadata": {},
   "source": [
    "#### .index()\n",
    "The built-in method `.index()’ takes in a value as the argument to find its index in the tuple."
   ]
  },
  {
   "cell_type": "code",
   "execution_count": 26,
   "metadata": {},
   "outputs": [
    {
     "data": {
      "text/plain": [
       "2"
      ]
     },
     "execution_count": 26,
     "metadata": {},
     "output_type": "execute_result"
    }
   ],
   "source": [
    "my_tuple = ('abc', 234, 567, 'def')\n",
    "my_tuple.index('abc') # returns 0\n",
    "my_tuple.index(567) # returns 2\n"
   ]
  },
  {
   "cell_type": "markdown",
   "metadata": {},
   "source": [
    "#### .count()\n",
    "The built-in method `.count()’ takes in a value as the argument to find the number of occurrences in the tuple."
   ]
  },
  {
   "cell_type": "code",
   "execution_count": 27,
   "metadata": {},
   "outputs": [
    {
     "data": {
      "text/plain": [
       "1"
      ]
     },
     "execution_count": 27,
     "metadata": {},
     "output_type": "execute_result"
    }
   ],
   "source": [
    "my_tuple = ('abc', 'abc', 2, 3, 4)\n",
    "my_tuple.count('abc') # returns 2\n",
    "my_tuple.count(3) # returns 1\n"
   ]
  },
  {
   "cell_type": "markdown",
   "metadata": {},
   "source": [
    "### Try It Out!\n",
    "#### Coding question\n",
    "Questions\n",
    "Take a look at the following code and play around with it to get a better understanding of tuples and different built-in functions and methods."
   ]
  },
  {
   "cell_type": "code",
   "execution_count": 28,
   "metadata": {},
   "outputs": [
    {
     "name": "stdout",
     "output_type": "stream",
     "text": [
      "abc\n",
      "(456, 789)\n",
      "6\n",
      "0\n",
      "4\n"
     ]
    }
   ],
   "source": [
    "my_tuple = ('abc', 123, 'def', 456, 789, 'ghi')\n",
    "\n",
    "print(my_tuple[0])\n",
    "print(my_tuple[3:5])\n",
    "\n",
    "print(len(my_tuple)) \n",
    "\n",
    "print(my_tuple.index('abc'))\n",
    "print(my_tuple.index(789)) \n"
   ]
  },
  {
   "cell_type": "markdown",
   "metadata": {},
   "source": [
    "# Dictionaries"
   ]
  },
  {
   "cell_type": "markdown",
   "metadata": {},
   "source": [
    "<b>Learn about dictionaries in Python.</b>\n",
    "\n",
    "Dictionaries are one of the most frequently used built-in data structures in Python. In this article, we’ll cover features of dictionaries and common built-in methods and functions that can be used with dictionaries.\n"
   ]
  },
  {
   "cell_type": "markdown",
   "metadata": {},
   "source": [
    "### Dictionaries\n",
    "In Python, dictionaries are defined with curly brackets {}. Dictionaries contain what’s called key-value pairs, which refer to pairs of a key and a value separated by a colon :. The values can hold and be a mix of different data types, including lists or even nested dictionaries. However, keys must be an immutable data type such as strings, numbers or tuples.\n",
    "\n",
    "The following dictionary has 4 key-value pairs. There are 4 key-value pairs separated by commas. For example, the key 'fruits' has the value of the ['mangoes', 'bananas', 'kiwis']:"
   ]
  },
  {
   "cell_type": "code",
   "execution_count": 29,
   "metadata": {},
   "outputs": [],
   "source": [
    "groceries = {'fruits': ['mangoes', 'bananas', 'kiwis'],\n",
    "            'protein': ['beef', 'pork', 'salmon'],\n",
    "            'carbs': ['rice', 'pasta', 'bread'],\n",
    "            'veggies': ['lettuce', 'cabbage', 'onions']}\n"
   ]
  },
  {
   "cell_type": "markdown",
   "metadata": {},
   "source": [
    "### Accessing and Writing Values\n",
    "In contrast to other data structures such as lists and tuples, there are no built-in ways to use indexing and slicing to access the values in a certain order in the dictionaries. A value within a dictionary can be accessed with its key."
   ]
  },
  {
   "cell_type": "code",
   "execution_count": 30,
   "metadata": {},
   "outputs": [
    {
     "data": {
      "text/plain": [
       "'Our Backyard'"
      ]
     },
     "execution_count": 30,
     "metadata": {},
     "output_type": "execute_result"
    }
   ],
   "source": [
    "party_planning = {'Yes': 10,\n",
    "                  'No': 15,\n",
    "                  'Maybe': 30,\n",
    "                  'Location': 'Our Backyard',\n",
    "                  'Date': '2022/05/01'}\n",
    " \n",
    "party_planning['Location'] # returns 'Our Backyard'\n"
   ]
  },
  {
   "cell_type": "markdown",
   "metadata": {},
   "source": [
    "Likewise, values can be updated in the dictionary using its key:"
   ]
  },
  {
   "cell_type": "code",
   "execution_count": 31,
   "metadata": {},
   "outputs": [
    {
     "data": {
      "text/plain": [
       "'At the park'"
      ]
     },
     "execution_count": 31,
     "metadata": {},
     "output_type": "execute_result"
    }
   ],
   "source": [
    "party_planning['Location'] = 'At the park'\n",
    "party_planning['Location'] # prints 'At the park'\n"
   ]
  },
  {
   "cell_type": "markdown",
   "metadata": {},
   "source": [
    "Similarly, a new key-value pair can be added to a dictionary:"
   ]
  },
  {
   "cell_type": "code",
   "execution_count": 32,
   "metadata": {},
   "outputs": [],
   "source": [
    "party_planning['Dress Code'] = 'Casual'\n"
   ]
  },
  {
   "cell_type": "markdown",
   "metadata": {},
   "source": [
    "### Common Built-in Functions\n",
    "#### len()\n",
    "The length of a dictionary can be measured using the built-in function len(). It takes the dictionary as an argument to count the number of key-value pairs in the dictionary."
   ]
  },
  {
   "cell_type": "code",
   "execution_count": 33,
   "metadata": {},
   "outputs": [
    {
     "data": {
      "text/plain": [
       "5"
      ]
     },
     "execution_count": 33,
     "metadata": {},
     "output_type": "execute_result"
    }
   ],
   "source": [
    "party_planning = {'Yes': 10,\n",
    "                  'No': 15,\n",
    "                  'Maybe': 30,\n",
    "                  'Location': 'Our Backyard',\n",
    "                  'Date': '2022/05/01'}\n",
    " \n",
    "len(party_planning) # returns 5\n"
   ]
  },
  {
   "cell_type": "markdown",
   "metadata": {},
   "source": [
    "#### .update()\n",
    "The built-in method update() takes in a dictionary as an argument to update an existing dictionary. Any new key-value pairs will be added to the existing dictionary, but overlapping key-value pairs from the new dictionary will overwrite the key-value pairs in the existing dictionary."
   ]
  },
  {
   "cell_type": "code",
   "execution_count": 34,
   "metadata": {},
   "outputs": [
    {
     "name": "stdout",
     "output_type": "stream",
     "text": [
      "{'jewelry': 'earrings', 'clothes': 'jeans', 'budget': 350, 'shoes': 'sandals'}\n"
     ]
    }
   ],
   "source": [
    "shopping_list1 = {'jewelry': 'earrings', 'clothes': 'jeans', 'budget': 200}\n",
    "shopping_list2 = {'shoes': 'sandals', 'budget': 350}\n",
    " \n",
    "shopping_list1.update(shopping_list2)\n",
    " \n",
    "print(shopping_list1) # prints {'jewelry': 'earrings', 'clothes': 'jeans', 'budget': 350, 'shoes': 'sandals'}\n"
   ]
  },
  {
   "cell_type": "markdown",
   "metadata": {},
   "source": [
    "#### .keys() and .values()\n",
    "The built-in functions .keys() and .values() can be used to return the list of keys and values of a dictionary."
   ]
  },
  {
   "cell_type": "code",
   "execution_count": 35,
   "metadata": {},
   "outputs": [
    {
     "data": {
      "text/plain": [
       "dict_values(['earrings', 'jeans', 200])"
      ]
     },
     "execution_count": 35,
     "metadata": {},
     "output_type": "execute_result"
    }
   ],
   "source": [
    "shopping_list = {'jewelry': 'earrings', 'clothes': 'jeans', 'budget': 200}\n",
    " \n",
    "shopping_list.keys() # returns dict_keys(['jewelry', 'clothes', 'budget'])\n",
    "shopping_list.values() # returns dict_values(['earrings', 'jeans', 200])\n"
   ]
  },
  {
   "cell_type": "markdown",
   "metadata": {},
   "source": [
    "For more built-in functions and methods, feel free to check out the <a href=\"https://www.codecademy.com/learn/paths/learn-python-3/tracks/learn-python-3/modules/learn-python3-dictionaries/cheatsheet\"> Dictionary Cheatsheet </a> from our Learn Python 3 course!"
   ]
  },
  {
   "cell_type": "markdown",
   "metadata": {},
   "source": [
    "#### Try It Out!\n",
    "#### Coding question\n",
    "Questions\n",
    "Take a look at the following code and play around with it to get a better understanding of dictionaries and different built-in functions and methods. Try finishing the for loop to print each key value pair in shopping_list1."
   ]
  },
  {
   "cell_type": "code",
   "execution_count": 36,
   "metadata": {},
   "outputs": [
    {
     "name": "stdout",
     "output_type": "stream",
     "text": [
      "['lettuce', 'cabbage', 'onions']\n",
      "{'fruits': ['mangoes', 'bananas', 'kiwis'], 'protein': ['beef', 'pork', 'salmon'], 'carbs': ['rice', 'pasta', 'bread'], 'veggies': ['lettuce', 'cabbage', 'onions'], 'desserts': ['mochi', 'ice cream', 'gulab jamun']}\n",
      "dict_keys(['fruits', 'protein', 'carbs', 'veggies', 'desserts'])\n",
      "dict_values([['mangoes', 'bananas', 'kiwis'], ['beef', 'pork', 'salmon'], ['rice', 'pasta', 'bread'], ['lettuce', 'cabbage', 'onions'], ['mochi', 'ice cream', 'gulab jamun']])\n"
     ]
    }
   ],
   "source": [
    "groceries = {\n",
    "'fruits': ['mangoes', 'bananas', 'kiwis'],\n",
    "'protein': ['beef', 'pork', 'salmon'], \n",
    "'carbs': ['rice', 'pasta', 'bread'],\n",
    "'veggies': ['lettuce', 'cabbage', 'onions']\n",
    "}\n",
    "\n",
    "print(groceries['veggies'])\n",
    "\n",
    "second_list = {'desserts': ['mochi', 'ice cream', 'gulab jamun']}\n",
    "groceries.update(second_list)\n",
    "print(groceries)\n",
    "\n",
    "print(groceries.keys())\n",
    "print(groceries.values())\n",
    "\n"
   ]
  },
  {
   "cell_type": "code",
   "execution_count": null,
   "metadata": {},
   "outputs": [],
   "source": []
  }
 ],
 "metadata": {
  "kernelspec": {
   "display_name": "Python 3",
   "language": "python",
   "name": "python3"
  },
  "language_info": {
   "codemirror_mode": {
    "name": "ipython",
    "version": 3
   },
   "file_extension": ".py",
   "mimetype": "text/x-python",
   "name": "python",
   "nbconvert_exporter": "python",
   "pygments_lexer": "ipython3",
   "version": "3.13.0"
  }
 },
 "nbformat": 4,
 "nbformat_minor": 2
}
