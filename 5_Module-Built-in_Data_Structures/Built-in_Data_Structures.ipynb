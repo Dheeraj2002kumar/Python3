{
 "cells": [
  {
   "cell_type": "markdown",
   "metadata": {},
   "source": [
    "# Built-in Data Structures"
   ]
  },
  {
   "cell_type": "markdown",
   "metadata": {},
   "source": [
    "## String Methods\n",
    "<b>Learn about strings in Python.</b>\n",
    "\n",
    "In Python, strings are defined with single quotes '' or double quotes \"\" and can contain a combination of letters, numbers, symbols and spaces. In this article, we’ll cover the basic string indexing and slicing, as well as the commonly used built-in methods that are used to manipulate strings."
   ]
  },
  {
   "cell_type": "markdown",
   "metadata": {},
   "source": [
    "### String Indexing and Slicing\n",
    "As mentioned above, strings can contain letters, numbers, symbols and spaces. Strings can be thought of as a list of characters combining any or all of these. Therefore, we can use indexing to access a certain character of the string. Take a look at the following string:"
   ]
  },
  {
   "cell_type": "code",
   "execution_count": 1,
   "metadata": {},
   "outputs": [],
   "source": [
    "intro = \"My name is Jeff!\"\n"
   ]
  },
  {
   "cell_type": "markdown",
   "metadata": {},
   "source": [
    "In this example, if we want to access the first character, we can use index 0 (remember that Python is a zero-index language!). We write the name of the variable followed by brackets [] that contains the index to print the character. This code would give us the first letter, 'M'."
   ]
  },
  {
   "cell_type": "code",
   "execution_count": 2,
   "metadata": {},
   "outputs": [
    {
     "name": "stdout",
     "output_type": "stream",
     "text": [
      "M\n"
     ]
    }
   ],
   "source": [
    "print(intro[0]) # prints M\n"
   ]
  },
  {
   "cell_type": "markdown",
   "metadata": {},
   "source": [
    "We can also apply slicing, using a range of indices to access multiple characters. Let’s say we want the first 2 letters. The brackets should contain the first index (0) as well as the end index (2), separated by : (remember, the end index is non-inclusive in Python!). This code would print the word 'My':"
   ]
  },
  {
   "cell_type": "code",
   "execution_count": 3,
   "metadata": {},
   "outputs": [
    {
     "data": {
      "text/plain": [
       "'My'"
      ]
     },
     "execution_count": 3,
     "metadata": {},
     "output_type": "execute_result"
    }
   ],
   "source": [
    "intro[0:2]\n"
   ]
  },
  {
   "cell_type": "markdown",
   "metadata": {},
   "source": [
    "We can also use negative indices to print the letters from the back. This code would print the word 'Jeff'."
   ]
  },
  {
   "cell_type": "code",
   "execution_count": 4,
   "metadata": {},
   "outputs": [
    {
     "data": {
      "text/plain": [
       "'Jeff'"
      ]
     },
     "execution_count": 4,
     "metadata": {},
     "output_type": "execute_result"
    }
   ],
   "source": [
    "intro[11:15] # prints Jeff\n"
   ]
  },
  {
   "cell_type": "markdown",
   "metadata": {},
   "source": [
    "## Common Built-in Functions"
   ]
  },
  {
   "cell_type": "markdown",
   "metadata": {},
   "source": [
    "### len()\n",
    "The length of a string can be measured using the built-in function len(). It takes the string as an argument to count the characters in the string. Note that whitespaces count as a character."
   ]
  },
  {
   "cell_type": "code",
   "execution_count": 5,
   "metadata": {},
   "outputs": [
    {
     "data": {
      "text/plain": [
       "9"
      ]
     },
     "execution_count": 5,
     "metadata": {},
     "output_type": "execute_result"
    }
   ],
   "source": [
    "intro1 = \"My name is Jeff!\"\n",
    "intro2 = \"Hello all!\"\n",
    "intro3 = \"Hi there.\"\n",
    "len(intro1) # evaluates 16\n",
    "len(intro2) # evaluates 10\n",
    "len(intro3) # evaluates 9\n"
   ]
  },
  {
   "cell_type": "markdown",
   "metadata": {},
   "source": [
    "### str.lower(), str.upper(), str.title()\n",
    "The built-in function .lower() takes a string and converts all letters in the string to lowercase. Similarly, the built-in function .upper() converts all letters in the string to uppercase."
   ]
  },
  {
   "cell_type": "code",
   "execution_count": 6,
   "metadata": {},
   "outputs": [
    {
     "name": "stdout",
     "output_type": "stream",
     "text": [
      "my name is jeff!\n",
      "MY NAME IS JEFF!\n",
      "My Name Is Jeff!\n"
     ]
    }
   ],
   "source": [
    "intro = \"My name is Jeff!\"\n",
    "print(intro.lower()) # prints 'my name is jeff!'\n",
    "print(intro.upper()) # prints 'MY NAME IS JEFF!'\n",
    "print(intro.title()) # prints 'My Name Is Jeff!'\n"
   ]
  },
  {
   "cell_type": "markdown",
   "metadata": {},
   "source": [
    "### str.split()\n",
    "The built-in function .split() takes a string and splits the string into a list of strings. By default, the function splits by whitespace but the separator can be specified as an argument."
   ]
  },
  {
   "cell_type": "code",
   "execution_count": 7,
   "metadata": {},
   "outputs": [
    {
     "name": "stdout",
     "output_type": "stream",
     "text": [
      "['My', 'name', 'is', 'Jeff!']\n",
      "['My ', ' is Jeff!']\n",
      "['My name is Jeff', '']\n"
     ]
    }
   ],
   "source": [
    "intro = \"My name is Jeff!\"\n",
    "print(intro.split()) # prints ['My', 'name', 'is', 'Jeff!']\n",
    "print(intro.split('name')) # prints ['My ', ' is Jeff!']\n",
    "print(intro.split('!')) # prints ['My name is Jeff', '']\n"
   ]
  },
  {
   "cell_type": "markdown",
   "metadata": {},
   "source": [
    "For additional functions, feel free to check out the<a href=\"https://www.codecademy.com/learn/paths/learn-python-3/tracks/learn-python-3/modules/learn-python3-strings/cheatsheet\"> Strings Cheatsheet </a> from our Learn Python 3 Course!"
   ]
  },
  {
   "cell_type": "markdown",
   "metadata": {},
   "source": [
    "### Try It Out\n",
    "#### Coding question\n",
    "Questions\n",
    "Take a look at the following code and play around with it to get a better understanding of strings and different built-in functions for strings."
   ]
  },
  {
   "cell_type": "code",
   "execution_count": 8,
   "metadata": {},
   "outputs": [
    {
     "name": "stdout",
     "output_type": "stream",
     "text": [
      "M\n",
      "My\n",
      "Jeff\n",
      "16\n",
      "['My', 'name', 'is', 'Jeff!']\n",
      "['My ', ' is Jeff!']\n",
      "['My name is Jeff', '']\n"
     ]
    }
   ],
   "source": [
    "intro = \"My name is Jeff!\"\n",
    "\n",
    "print(intro[0]) \n",
    "print(intro[0:2])\n",
    "print(intro[-5:-1])\n",
    "\n",
    "print(len(intro)) \n",
    "\n",
    "intro.lower()\n",
    "intro.upper()\n",
    "intro.title()\n",
    "\n",
    "print(intro.split())\n",
    "print(intro.split('name')) \n",
    "print(intro.split('!'))\n"
   ]
  },
  {
   "cell_type": "markdown",
   "metadata": {},
   "source": []
  }
 ],
 "metadata": {
  "kernelspec": {
   "display_name": "Python 3",
   "language": "python",
   "name": "python3"
  },
  "language_info": {
   "codemirror_mode": {
    "name": "ipython",
    "version": 3
   },
   "file_extension": ".py",
   "mimetype": "text/x-python",
   "name": "python",
   "nbconvert_exporter": "python",
   "pygments_lexer": "ipython3",
   "version": "3.13.0"
  }
 },
 "nbformat": 4,
 "nbformat_minor": 2
}
