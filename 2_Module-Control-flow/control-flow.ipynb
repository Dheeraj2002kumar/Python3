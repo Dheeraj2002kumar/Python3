{
 "cells": [
  {
   "cell_type": "markdown",
   "metadata": {},
   "source": [
    "# if, elif, else"
   ]
  },
  {
   "cell_type": "markdown",
   "metadata": {},
   "source": [
    "<b>Learn about conditional statements in Python.</b>\n",
    "\n",
    "if, elif, and else statements, also known as conditional statements, which are used to execute a sequence of code based on the given boolean values.\n",
    "\n",
    "### if Statements\n",
    "An if statement evaluates whether the given expression is evaluated as True. If the condition evaluates to be True, the code is executed. If the condition evaluates to be False, the code does not execute.\n",
    "\n",
    "For example, the if statement can be used to evaluate if the expression score >= 80 is True. If the variable score is set as 90, because it is greater than 80, it will execute the following code with the print statement:"
   ]
  },
  {
   "cell_type": "code",
   "execution_count": null,
   "metadata": {},
   "outputs": [],
   "source": [
    "score = 90\n",
    " \n",
    "if score >= 80:\n",
    "   print('You pass the course!')\n"
   ]
  },
  {
   "cell_type": "markdown",
   "metadata": {},
   "source": [
    "If the variable score is changed to 40, the print() statement won’t be executed."
   ]
  },
  {
   "cell_type": "markdown",
   "metadata": {},
   "source": [
    "### else Statements\n",
    "Adding an else statement after an if statement allows for another set of code to be ran if the if statement evaluates the expression to be False."
   ]
  },
  {
   "cell_type": "code",
   "execution_count": 1,
   "metadata": {},
   "outputs": [
    {
     "name": "stdout",
     "output_type": "stream",
     "text": [
      "You do not pass the course!\n"
     ]
    }
   ],
   "source": [
    "score = 70\n",
    " \n",
    "if score >= 80:\n",
    "   print('You pass the course!') \n",
    "else:\n",
    "   print('You do not pass the course!')\n"
   ]
  },
  {
   "cell_type": "markdown",
   "metadata": {},
   "source": [
    "The if statement here evaluates whether the variable score is greater than or equal to 80. Because the statement is False, the latter print() statement would be executed."
   ]
  },
  {
   "cell_type": "markdown",
   "metadata": {},
   "source": [
    "### elif Statements\n",
    "An elif statement, which is short for else if, can be added between an if statement and an else statement to evaluate for another condition. The code under the elif statement will only execute if the preceding if statement evaluates to be False."
   ]
  },
  {
   "cell_type": "code",
   "execution_count": 2,
   "metadata": {},
   "outputs": [
    {
     "name": "stdout",
     "output_type": "stream",
     "text": [
      "You pass the course! Talk to your instructor.\n"
     ]
    }
   ],
   "source": [
    "score = 70\n",
    " \n",
    "if score >= 80:\n",
    "   print('You pass the course with flying colors!')\n",
    " \n",
    "elif score > 65:\n",
    "   print('You pass the course! Talk to your instructor.')\n",
    "  \n",
    "else:\n",
    "   print('You do not pass the course!')\n"
   ]
  },
  {
   "cell_type": "markdown",
   "metadata": {},
   "source": [
    "Here, the initial if statement evaluates to be False, so the elif statement is evaluated. Because the elif statement evaluates to be True, the print() statement under elif is executed."
   ]
  },
  {
   "cell_type": "code",
   "execution_count": 3,
   "metadata": {},
   "outputs": [
    {
     "name": "stdout",
     "output_type": "stream",
     "text": [
      "Your final grade is a C\n"
     ]
    }
   ],
   "source": [
    "score = 82\n",
    " \n",
    "if score >= 92:\n",
    "   print('Your final grade is an A')\n",
    " \n",
    "elif score >= 85:\n",
    "   print('Your final grade is a B')\n",
    " \n",
    "elif score >= 70:\n",
    "   print('Your final grade is a C')\n",
    " \n",
    "else:\n",
    "   print('Talk with your instructor about your grade!')\n"
   ]
  },
  {
   "cell_type": "markdown",
   "metadata": {},
   "source": [
    "# Loops"
   ]
  },
  {
   "cell_type": "markdown",
   "metadata": {},
   "source": [
    "`Learn about loops in Python.`\n",
    "\n",
    "A loop is used to execute code repeatedly in Python. This article will cover how for loops and while are used."
   ]
  },
  {
   "cell_type": "markdown",
   "metadata": {},
   "source": [
    "### for loops\n",
    "The for loop is used to iterate over items and execute code on each item. It has two keywords, for and in, which are used to describe the element and the object that is being iterated over, respectively. The indentation after : starts the body of the loop.\n",
    "\n",
    "In the example below, the for loop is iterating over the list nums. For each item in num, it is printing the output of num + 1."
   ]
  },
  {
   "cell_type": "code",
   "execution_count": 4,
   "metadata": {},
   "outputs": [
    {
     "name": "stdout",
     "output_type": "stream",
     "text": [
      "2\n",
      "3\n",
      "4\n",
      "5\n",
      "6\n"
     ]
    }
   ],
   "source": [
    "nums = [1, 2, 3, 4, 5]\n",
    " \n",
    "for num in nums:\n",
    "  print(num + 1)\n"
   ]
  },
  {
   "cell_type": "markdown",
   "metadata": {},
   "source": [
    "### for loops with range()\n",
    "The range() function can be used with the for loop to execute a block of code multiple times. The code below iterates between numbers 0 to 2 and prints each number."
   ]
  },
  {
   "cell_type": "code",
   "execution_count": 5,
   "metadata": {},
   "outputs": [
    {
     "name": "stdout",
     "output_type": "stream",
     "text": [
      "0\n",
      "1\n",
      "2\n"
     ]
    }
   ],
   "source": [
    "for i in range(3):\n",
    "    print(i)\n"
   ]
  },
  {
   "cell_type": "markdown",
   "metadata": {},
   "source": [
    "### Nested for loops\n",
    "A for loop can have nested for loops. This is particularly useful if the items you are iterating over contain subitems. In the example below, we have a list of lists called teams and we can use a nested for loop to print each name in the lists."
   ]
  },
  {
   "cell_type": "code",
   "execution_count": 6,
   "metadata": {},
   "outputs": [
    {
     "name": "stdout",
     "output_type": "stream",
     "text": [
      "Jody\n",
      "Abe\n",
      "Abhishek\n",
      "Kim\n",
      "Taylor\n",
      "Jen\n"
     ]
    }
   ],
   "source": [
    "teams = [['Jody', 'Abe'], ['Abhishek', 'Kim'], ['Taylor', 'Jen']]\n",
    "for team in teams:\n",
    "  for name in team:\n",
    "    print(name)\n"
   ]
  },
  {
   "cell_type": "markdown",
   "metadata": {},
   "source": [
    "### while loops\n",
    "The while loop is used to execute code while its condition evaluates to be True. In the example below, the while loop will run and print i as long as the value of i is less than 6."
   ]
  },
  {
   "cell_type": "code",
   "execution_count": 7,
   "metadata": {},
   "outputs": [
    {
     "name": "stdout",
     "output_type": "stream",
     "text": [
      "1\n",
      "2\n",
      "3\n",
      "4\n",
      "5\n"
     ]
    }
   ],
   "source": [
    "i = 1\n",
    "while i < 6:\n",
    "    print(i)\n",
    "    i += 1\n"
   ]
  },
  {
   "cell_type": "markdown",
   "metadata": {},
   "source": [
    "### Infinite loops\n",
    "An infinite loop is a while loop that never terminates because the condition is always evaluated to be True. This could be due to a typo or an incorrect logic in the loop. You can terminate the loop by pressing the Ctrl and c together on your keyboard."
   ]
  },
  {
   "cell_type": "markdown",
   "metadata": {},
   "source": [
    "Let’s test out the loops in the following example code. Feel free to change the code to get a good understanding of the loops."
   ]
  },
  {
   "cell_type": "code",
   "execution_count": 8,
   "metadata": {},
   "outputs": [
    {
     "name": "stdout",
     "output_type": "stream",
     "text": [
      "This is an example of for loops\n",
      "9\n",
      "16\n",
      "256\n",
      "This is an example of while loops\n",
      "3\n",
      "9\n",
      "81\n"
     ]
    }
   ],
   "source": [
    "# for loop\n",
    "nums = [3, 4, 16]\n",
    " \n",
    "print('This is an example of for loops')\n",
    "\n",
    "for num in nums:\n",
    "   print(num ** 2)\n",
    " \n",
    "# while loop\n",
    "i = 3\n",
    "\n",
    "print('This is an example of while loops')\n",
    "\n",
    "while i < 258:\n",
    "   print(i)\n",
    "   i = i ** 2\n"
   ]
  },
  {
   "cell_type": "markdown",
   "metadata": {},
   "source": [
    "# Pass, Break, Continue"
   ]
  },
  {
   "cell_type": "markdown",
   "metadata": {},
   "source": [
    "<b>Learn how to control for and while loops in Python.</b>\n",
    "\n",
    "This article will cover the three keywords, pass, break and continue which are used to control or disrupt loops."
   ]
  },
  {
   "cell_type": "markdown",
   "metadata": {},
   "source": [
    "### pass\n",
    "The pass keyword is mostly used as a placeholder in a loop. Nothing gets executed when pass is placed under a condition."
   ]
  },
  {
   "cell_type": "code",
   "execution_count": 9,
   "metadata": {},
   "outputs": [
    {
     "name": "stdout",
     "output_type": "stream",
     "text": [
      "Hannah\n",
      "Manny\n",
      "Ezekiel\n"
     ]
    }
   ],
   "source": [
    "names = ['Joyce', 'Hannah', 'Manny', 'Manoj', 'Ezekiel']\n",
    " \n",
    "for name in names:\n",
    "   if 'j' in name.lower():\n",
    "       pass\n",
    "   else:\n",
    "       print(name)\n"
   ]
  },
  {
   "cell_type": "markdown",
   "metadata": {},
   "source": [
    "### break\n",
    "The break keyword terminates a loop. break statements are typically found within conditional statements. If a certain condition is met, the loop stops iterating and breaks at that point.\n",
    "\n"
   ]
  },
  {
   "cell_type": "code",
   "execution_count": 10,
   "metadata": {},
   "outputs": [
    {
     "name": "stdout",
     "output_type": "stream",
     "text": [
      "Joyce\n"
     ]
    }
   ],
   "source": [
    "names = ['Joyce', 'Hannah', 'Manny', 'Manoj', 'Ezekiel']\n",
    " \n",
    "for name in names:\n",
    "  if 'h' in name.lower():\n",
    "      break\n",
    "  else:\n",
    "      print(name)\n"
   ]
  },
  {
   "cell_type": "markdown",
   "metadata": {},
   "source": [
    "### continue\n",
    "The continue keyword skips over an iteration if the condition is met and goes onto the next iteration. The difference between the continue keyword and pass is that continue goes onto the next iteration while pass simply does not do anything."
   ]
  },
  {
   "cell_type": "code",
   "execution_count": 11,
   "metadata": {},
   "outputs": [
    {
     "name": "stdout",
     "output_type": "stream",
     "text": [
      "Joyce\n",
      "Hannah\n",
      "Ezekiel\n"
     ]
    }
   ],
   "source": [
    "names = ['Joyce', 'Hannah', 'Manny', 'Manoj', 'Ezekiel']\n",
    " \n",
    "for name in names:\n",
    "  if 'm' in name.lower():\n",
    "      continue\n",
    "  else:\n",
    "      print(name)\n"
   ]
  },
  {
   "cell_type": "markdown",
   "metadata": {},
   "source": [
    "The code above iterates through the list names to print each element name, but skips over any elements that contain the letter m."
   ]
  },
  {
   "cell_type": "markdown",
   "metadata": {},
   "source": [
    "Take a look at the following code and play around with it to get a better understanding of the keywords pass, break and continue."
   ]
  },
  {
   "cell_type": "code",
   "execution_count": 12,
   "metadata": {},
   "outputs": [
    {
     "name": "stdout",
     "output_type": "stream",
     "text": [
      "Elisabeth\n",
      "Tay\n"
     ]
    }
   ],
   "source": [
    "names = ['Amanda', 'Mercedes', 'Rachel', 'Elisabeth', 'Tay', 'Xavier', 'Joaquin', 'Sam']\n",
    " \n",
    "for name in names:\n",
    "  if 'm' in name.lower():\n",
    "      continue\n",
    "  elif 'r' in name.lower():\n",
    "      pass\n",
    "  elif 'j' in name.lower():\n",
    "      break\n",
    "  else:\n",
    "       print(name)\n"
   ]
  },
  {
   "cell_type": "markdown",
   "metadata": {},
   "source": [
    "# Error Handling\n"
   ]
  },
  {
   "cell_type": "markdown",
   "metadata": {},
   "source": [
    "<b>Learn how to do error handling in Python.</b>\n",
    "\n",
    "In programming, error handling refers to the process of anticipating and resolving errors when they arise. Error handling allows for flexibility in the code as it executes different blocks of code based on the presence of errors.\n",
    "\n",
    "This article will cover the three clauses, try, except and finally which are used for error handling. These clauses can be used together to execute different blocks of code in situations where there may be errors in the first block of code."
   ]
  },
  {
   "cell_type": "markdown",
   "metadata": {},
   "source": [
    "### try and except\n",
    "The clause try attempts to execute a block of code and except executes another block of code if try fails."
   ]
  },
  {
   "cell_type": "code",
   "execution_count": 13,
   "metadata": {},
   "outputs": [
    {
     "name": "stdout",
     "output_type": "stream",
     "text": [
      "6\n"
     ]
    }
   ],
   "source": [
    "nums = [0, 1, 2, 3]\n",
    " \n",
    "try:\n",
    "   print(sum(nums))\n",
    " \n",
    "except:\n",
    "   print('Cannot print the sum! Your variables are not numbers.')\n"
   ]
  },
  {
   "cell_type": "markdown",
   "metadata": {},
   "source": [
    "The try clause above tries to execute the code print(sum(nums)) to print the sum of the list nums. Because nums is a list of integers, the try clause will successfully run the code print(sum(nums)) which will result in the following output: 6"
   ]
  },
  {
   "cell_type": "markdown",
   "metadata": {},
   "source": [
    "In a case where the try clause runs into an error, the code under except will be executed instead."
   ]
  },
  {
   "cell_type": "code",
   "execution_count": 14,
   "metadata": {},
   "outputs": [
    {
     "name": "stdout",
     "output_type": "stream",
     "text": [
      "Cannot print the sum! Your variables are not numbers.\n"
     ]
    }
   ],
   "source": [
    "nums = ['x', 'y', 'z']\n",
    " \n",
    "try:\n",
    "   print(sum(nums))\n",
    " \n",
    "except:\n",
    "   print('Cannot print the sum! Your variables are not numbers.')\n"
   ]
  },
  {
   "cell_type": "markdown",
   "metadata": {},
   "source": [
    "The try clause above will fail because the list nums has strings, which cannot be added together with sum(). Instead, the code under except will be executed:"
   ]
  },
  {
   "cell_type": "code",
   "execution_count": 15,
   "metadata": {},
   "outputs": [],
   "source": [
    "# Cannot print the sum! Your variables are not numbers.\n"
   ]
  },
  {
   "cell_type": "markdown",
   "metadata": {},
   "source": [
    "### finally\n",
    "The finally clause executes a block of code regardless of which clause, try or except, was executed. The finally clause is useful in cases where both of your try and except might fail."
   ]
  },
  {
   "cell_type": "code",
   "execution_count": 16,
   "metadata": {},
   "outputs": [
    {
     "name": "stdout",
     "output_type": "stream",
     "text": [
      "Cannot print the sum! Your variables are not numbers.\n",
      "Hope you got the result you want!\n"
     ]
    }
   ],
   "source": [
    "nums = ['x', 'y', 'z']\n",
    " \n",
    "try:\n",
    "   print(sum(nums))\n",
    " \n",
    "except:\n",
    "   print('Cannot print the sum! Your variables are not numbers.')\n",
    " \n",
    "finally:\n",
    "   print('Hope you got the result you want!')\n"
   ]
  },
  {
   "cell_type": "markdown",
   "metadata": {},
   "source": [
    "Take a look at the following code and play around with it to get a better understanding of the try, except and finally clauses."
   ]
  },
  {
   "cell_type": "code",
   "execution_count": 17,
   "metadata": {},
   "outputs": [
    {
     "name": "stdout",
     "output_type": "stream",
     "text": [
      "The average of the list is:  5.0\n",
      "Feel free to rerun the code with another list of integers!\n"
     ]
    }
   ],
   "source": [
    "nums = [5, 2, 3, 10]\n",
    " \n",
    "try:\n",
    "   avg = sum(nums) / len(nums)\n",
    "   print('The average of the list is: ', avg)\n",
    " \n",
    "except:\n",
    "   print('Cannot compute average - make sure you enter a list of integers!')\n",
    " \n",
    "finally:\n",
    "   print('Feel free to rerun the code with another list of integers!')\n"
   ]
  },
  {
   "cell_type": "code",
   "execution_count": null,
   "metadata": {},
   "outputs": [],
   "source": []
  }
 ],
 "metadata": {
  "kernelspec": {
   "display_name": "Python 3",
   "language": "python",
   "name": "python3"
  },
  "language_info": {
   "codemirror_mode": {
    "name": "ipython",
    "version": 3
   },
   "file_extension": ".py",
   "mimetype": "text/x-python",
   "name": "python",
   "nbconvert_exporter": "python",
   "pygments_lexer": "ipython3",
   "version": "3.13.0"
  }
 },
 "nbformat": 4,
 "nbformat_minor": 2
}
