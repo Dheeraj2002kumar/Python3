{
 "cells": [
  {
   "cell_type": "markdown",
   "metadata": {},
   "source": [
    "# if, elif, else"
   ]
  },
  {
   "cell_type": "markdown",
   "metadata": {},
   "source": [
    "<b>Learn about conditional statements in Python.</b>\n",
    "\n",
    "if, elif, and else statements, also known as conditional statements, which are used to execute a sequence of code based on the given boolean values.\n",
    "\n",
    "### if Statements\n",
    "An if statement evaluates whether the given expression is evaluated as True. If the condition evaluates to be True, the code is executed. If the condition evaluates to be False, the code does not execute.\n",
    "\n",
    "For example, the if statement can be used to evaluate if the expression score >= 80 is True. If the variable score is set as 90, because it is greater than 80, it will execute the following code with the print statement:"
   ]
  },
  {
   "cell_type": "code",
   "execution_count": null,
   "metadata": {},
   "outputs": [],
   "source": [
    "score = 90\n",
    " \n",
    "if score >= 80:\n",
    "   print('You pass the course!')\n"
   ]
  },
  {
   "cell_type": "markdown",
   "metadata": {},
   "source": [
    "If the variable score is changed to 40, the print() statement won’t be executed."
   ]
  },
  {
   "cell_type": "markdown",
   "metadata": {},
   "source": [
    "### else Statements\n",
    "Adding an else statement after an if statement allows for another set of code to be ran if the if statement evaluates the expression to be False."
   ]
  },
  {
   "cell_type": "code",
   "execution_count": 1,
   "metadata": {},
   "outputs": [
    {
     "name": "stdout",
     "output_type": "stream",
     "text": [
      "You do not pass the course!\n"
     ]
    }
   ],
   "source": [
    "score = 70\n",
    " \n",
    "if score >= 80:\n",
    "   print('You pass the course!') \n",
    "else:\n",
    "   print('You do not pass the course!')\n"
   ]
  },
  {
   "cell_type": "markdown",
   "metadata": {},
   "source": [
    "The if statement here evaluates whether the variable score is greater than or equal to 80. Because the statement is False, the latter print() statement would be executed."
   ]
  },
  {
   "cell_type": "markdown",
   "metadata": {},
   "source": [
    "### elif Statements\n",
    "An elif statement, which is short for else if, can be added between an if statement and an else statement to evaluate for another condition. The code under the elif statement will only execute if the preceding if statement evaluates to be False."
   ]
  },
  {
   "cell_type": "code",
   "execution_count": 2,
   "metadata": {},
   "outputs": [
    {
     "name": "stdout",
     "output_type": "stream",
     "text": [
      "You pass the course! Talk to your instructor.\n"
     ]
    }
   ],
   "source": [
    "score = 70\n",
    " \n",
    "if score >= 80:\n",
    "   print('You pass the course with flying colors!')\n",
    " \n",
    "elif score > 65:\n",
    "   print('You pass the course! Talk to your instructor.')\n",
    "  \n",
    "else:\n",
    "   print('You do not pass the course!')\n"
   ]
  },
  {
   "cell_type": "markdown",
   "metadata": {},
   "source": [
    "Here, the initial if statement evaluates to be False, so the elif statement is evaluated. Because the elif statement evaluates to be True, the print() statement under elif is executed."
   ]
  },
  {
   "cell_type": "code",
   "execution_count": 3,
   "metadata": {},
   "outputs": [
    {
     "name": "stdout",
     "output_type": "stream",
     "text": [
      "Your final grade is a C\n"
     ]
    }
   ],
   "source": [
    "score = 82\n",
    " \n",
    "if score >= 92:\n",
    "   print('Your final grade is an A')\n",
    " \n",
    "elif score >= 85:\n",
    "   print('Your final grade is a B')\n",
    " \n",
    "elif score >= 70:\n",
    "   print('Your final grade is a C')\n",
    " \n",
    "else:\n",
    "   print('Talk with your instructor about your grade!')\n"
   ]
  },
  {
   "cell_type": "markdown",
   "metadata": {},
   "source": []
  }
 ],
 "metadata": {
  "kernelspec": {
   "display_name": "Python 3",
   "language": "python",
   "name": "python3"
  },
  "language_info": {
   "codemirror_mode": {
    "name": "ipython",
    "version": 3
   },
   "file_extension": ".py",
   "mimetype": "text/x-python",
   "name": "python",
   "nbconvert_exporter": "python",
   "pygments_lexer": "ipython3",
   "version": "3.13.0"
  }
 },
 "nbformat": 4,
 "nbformat_minor": 2
}
